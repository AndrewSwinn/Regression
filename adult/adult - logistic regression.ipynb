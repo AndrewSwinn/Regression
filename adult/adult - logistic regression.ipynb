{
 "cells": [
  {
   "cell_type": "code",
   "id": "initial_id",
   "metadata": {
    "collapsed": true,
    "ExecuteTime": {
     "end_time": "2025-06-12T09:36:48.775259Z",
     "start_time": "2025-06-12T09:36:40.903367Z"
    }
   },
   "source": [
    "import pandas as pd\n",
    "import numpy as np\n",
    "from   tabulate import tabulate\n",
    "from   sklearn.model_selection import train_test_split\n",
    "from   sklearn.compose import ColumnTransformer\n",
    "from   sklearn.pipeline import Pipeline\n",
    "from   sklearn.preprocessing import OneHotEncoder, StandardScaler\n",
    "from   sklearn.linear_model import LogisticRegression\n",
    "\n",
    "import shap"
   ],
   "outputs": [],
   "execution_count": 1
  },
  {
   "metadata": {
    "ExecuteTime": {
     "end_time": "2025-06-12T09:36:50.416045Z",
     "start_time": "2025-06-12T09:36:50.302849Z"
    }
   },
   "cell_type": "code",
   "source": [
    "X, y = shap.datasets.adult()\n",
    "\n",
    "X_train, X_test, y_train, y_test = train_test_split(X, y, test_size=0.2, random_state=1)"
   ],
   "id": "7d5e22337f9cdefa",
   "outputs": [],
   "execution_count": 2
  },
  {
   "metadata": {},
   "cell_type": "code",
   "outputs": [],
   "execution_count": null,
   "source": "",
   "id": "bc7e0835acef00ff"
  }
 ],
 "metadata": {
  "kernelspec": {
   "display_name": "Python 3",
   "language": "python",
   "name": "python3"
  },
  "language_info": {
   "codemirror_mode": {
    "name": "ipython",
    "version": 2
   },
   "file_extension": ".py",
   "mimetype": "text/x-python",
   "name": "python",
   "nbconvert_exporter": "python",
   "pygments_lexer": "ipython2",
   "version": "2.7.6"
  }
 },
 "nbformat": 4,
 "nbformat_minor": 5
}
