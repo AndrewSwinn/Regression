{
 "cells": [
  {
   "metadata": {
    "ExecuteTime": {
     "end_time": "2025-06-26T09:40:01.462313Z",
     "start_time": "2025-06-26T09:39:58.140638Z"
    }
   },
   "cell_type": "code",
   "source": [
    "import numpy as np\n",
    "from   matplotlib import pyplot as plt\n"
   ],
   "id": "e1c23f974cdfbff2",
   "outputs": [],
   "execution_count": 1
  },
  {
   "metadata": {
    "ExecuteTime": {
     "end_time": "2025-06-26T09:40:02.620408Z",
     "start_time": "2025-06-26T09:40:02.611472Z"
    }
   },
   "cell_type": "code",
   "source": [
    "def model(X_v, y_v):\n",
    "\n",
    "    C = np.matmul(X_v.T, X_v)\n",
    "    x_mean = np.mean(X_v, axis=0)\n",
    "\n",
    "\n",
    "    if type(C) is np.float64:\n",
    "        inv_C = 1/C\n",
    "        w     = inv_C * np.matmul(X_v.T, y)\n",
    "        R2i   = w * np.matmul(X_v.T, X_v) * w / len(y_v)\n",
    "\n",
    "    else:\n",
    "        inv_C = np.linalg.inv(C)\n",
    "        w     = np.matmul(np.matmul(inv_C, X_v.T), y)\n",
    "        R2i   = np.matmul(np.diag(w.T), np.matmul(np.matmul(X_v.T, X_v), w)) / len(y_v)\n",
    "\n",
    "    return w, R2i\n",
    "\n"
   ],
   "id": "d8d334528784542a",
   "outputs": [],
   "execution_count": 2
  },
  {
   "metadata": {
    "ExecuteTime": {
     "end_time": "2025-06-26T09:40:08.221356Z",
     "start_time": "2025-06-26T09:40:03.538188Z"
    }
   },
   "cell_type": "code",
   "source": [
    "samples = 1000\n",
    "\n",
    "def covariance(r, a): \n",
    "    b = np.sqrt(r**2 - a**2)\n",
    "    return np.array([\n",
    "            [1, b, a],\n",
    "            [b, 1, 0],\n",
    "            [a, 0, 1]])\n",
    "\n",
    "phi2_plot = []\n",
    "\n",
    "radius = 0.95\n",
    "\n",
    "for alpha in np.arange(0.0, radius, 0.01):\n",
    "    phi = []\n",
    "    for i in range(100):\n",
    "        data = np.random.multivariate_normal(mean=np.zeros(3), cov=covariance(radius, alpha), size=samples, check_valid='warn')\n",
    "        \n",
    "        X = data[:,:2]\n",
    "        y = data[:, 2]\n",
    "       \n",
    "        (w, Rn), (w1, R1), (w2, R2) =  model(X, y),  model(X[:,0], y),  model(X[:,1], y)\n",
    "        phi_1 = 0.5 * (R1 + sum(Rn) - R2)\n",
    "        phi_2 = 0.5 * (R2 + sum(Rn) - R1)\n",
    "        phi.append([alpha, phi_1, phi_2])\n",
    "\n",
    "    \n",
    "    phi_mean = np.mean(np.array(phi), axis=0)\n",
    "    phi2_plot.append(phi_mean)\n",
    "    \n",
    "    \n",
    "\n",
    "phi2_plot = np.array(phi2_plot)\n",
    "\n"
   ],
   "id": "a7d6696e53442ff5",
   "outputs": [],
   "execution_count": 3
  },
  {
   "metadata": {
    "ExecuteTime": {
     "end_time": "2025-06-26T09:40:09.568537Z",
     "start_time": "2025-06-26T09:40:09.407748Z"
    }
   },
   "cell_type": "code",
   "source": [
    "plt.scatter(phi2_plot[:,0], phi2_plot[:,1], color='blue' )\n",
    "plt.scatter(phi2_plot[:,0], phi2_plot[:,2], color='red' )\n",
    "plt.scatter(phi2_plot[:,0], (phi2_plot[:,1] + phi2_plot[:,2]), color='green' )\n"
   ],
   "id": "478372519c45566b",
   "outputs": [
    {
     "data": {
      "text/plain": [
       "<matplotlib.collections.PathCollection at 0x2311cb08320>"
      ]
     },
     "execution_count": 4,
     "metadata": {},
     "output_type": "execute_result"
    },
    {
     "data": {
      "text/plain": [
       "<Figure size 640x480 with 1 Axes>"
      ],
      "image/png": "[encoded data removed]"
     },
     "metadata": {},
     "output_type": "display_data"
    }
   ],
   "execution_count": 4
  },
  {
   "metadata": {
    "ExecuteTime": {
     "end_time": "2025-06-26T09:43:30.888942Z",
     "start_time": "2025-06-26T09:43:30.872748Z"
    }
   },
   "cell_type": "code",
   "source": " phi2_plot[:,1]",
   "id": "5e779870e88005f8",
   "outputs": [
    {
     "data": {
      "text/plain": [
       "array([0.0008943 , 0.00139237, 0.003393  , 0.0062886 , 0.01047022,\n",
       "       0.01376705, 0.01942427, 0.02697925, 0.03630066, 0.04324304,\n",
       "       0.05115029, 0.06501468, 0.07272926, 0.08212691, 0.09373302,\n",
       "       0.10522968, 0.11836052, 0.12803268, 0.14520459, 0.15405861,\n",
       "       0.16612178, 0.17987521, 0.19536411, 0.19876617, 0.21413943,\n",
       "       0.227011  , 0.24354128, 0.25073409, 0.26107086, 0.27862012,\n",
       "       0.29077367, 0.28918354, 0.30716707, 0.32212372, 0.33026483,\n",
       "       0.34248675, 0.34956949, 0.35612315, 0.37394263, 0.3752011 ,\n",
       "       0.39153866, 0.39892864, 0.4156473 , 0.41866669, 0.42892541,\n",
       "       0.44102128, 0.45200324, 0.45709889, 0.4748768 , 0.47016344,\n",
       "       0.48499495, 0.49300778, 0.50443685, 0.51387628, 0.52297483,\n",
       "       0.52752604, 0.5404468 , 0.54350279, 0.55972032, 0.5644445 ,\n",
       "       0.57475114, 0.57696541, 0.59094934, 0.60403041, 0.60878408,\n",
       "       0.61705117, 0.62259955, 0.64074443, 0.64446758, 0.65485054,\n",
       "       0.66249486, 0.66967735, 0.68075899, 0.69171465, 0.70312253,\n",
       "       0.70771698, 0.71299198, 0.71236138, 0.73122159, 0.74523219,\n",
       "       0.75901369, 0.76088237, 0.76817426, 0.78356952, 0.78857716,\n",
       "       0.80468507, 0.81671128, 0.81928988, 0.82190366, 0.83535734,\n",
       "       0.85521127, 0.86313477, 0.87370196, 0.87969322, 0.88913569])"
      ]
     },
     "execution_count": 5,
     "metadata": {},
     "output_type": "execute_result"
    }
   ],
   "execution_count": 5
  },
  {
   "metadata": {
    "ExecuteTime": {
     "end_time": "2025-06-26T09:39:33.069152Z",
     "start_time": "2025-06-26T09:39:33.057524Z"
    }
   },
   "cell_type": "code",
   "source": [
    "X = data[:,:2]\n",
    "y = data[:, 2]\n",
    "\n",
    "(w, Rn), (w1, R1), (w2, R2) =  model(X, y),  model(X[:,0], y),  model(X[:,1], y)"
   ],
   "id": "9ba9830f8c2d906",
   "outputs": [],
   "execution_count": 25
  },
  {
   "metadata": {
    "ExecuteTime": {
     "end_time": "2025-06-20T12:42:10.142983Z",
     "start_time": "2025-06-20T12:42:10.126857Z"
    }
   },
   "cell_type": "code",
   "source": "R2",
   "id": "51d1e381036bce1",
   "outputs": [
    {
     "data": {
      "text/plain": [
       "1.1587293702357554e-05"
      ]
     },
     "execution_count": 47,
     "metadata": {},
     "output_type": "execute_result"
    }
   ],
   "execution_count": 47
  },
  {
   "metadata": {},
   "cell_type": "code",
   "outputs": [],
   "execution_count": null,
   "source": "",
   "id": "678bd69ac13c8f62"
  }
 ],
 "metadata": {
  "kernelspec": {
   "display_name": "Python 3 (ipykernel)",
   "language": "python",
   "name": "python3"
  },
  "language_info": {
   "codemirror_mode": {
    "name": "ipython",
    "version": 3
   },
   "file_extension": ".py",
   "mimetype": "text/x-python",
   "name": "python",
   "nbconvert_exporter": "python",
   "pygments_lexer": "ipython3",
   "version": "3.13.3"
  }
 },
 "nbformat": 4,
 "nbformat_minor": 5
}
