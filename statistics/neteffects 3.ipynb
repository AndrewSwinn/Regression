{
 "cells": [
  {
   "metadata": {
    "ExecuteTime": {
     "end_time": "2025-06-20T12:25:46.743205Z",
     "start_time": "2025-06-20T12:25:46.723921Z"
    }
   },
   "cell_type": "code",
   "source": [
    "import numpy as np\n",
    "from   matplotlib import pyplot as plt\n"
   ],
   "id": "e1c23f974cdfbff2",
   "outputs": [],
   "execution_count": 35
  },
  {
   "metadata": {
    "ExecuteTime": {
     "end_time": "2025-06-20T12:25:48.233111Z",
     "start_time": "2025-06-20T12:25:48.216555Z"
    }
   },
   "cell_type": "code",
   "source": [
    "def model(X_v, y_v):\n",
    "\n",
    "    C = np.matmul(X_v.T, X_v)\n",
    "    x_mean = np.mean(X_v, axis=0)\n",
    "\n",
    "\n",
    "    if type(C) is np.float64:\n",
    "        inv_C = 1/C\n",
    "        w     = inv_C * np.matmul(X_v.T, y)\n",
    "        R2i   = w * np.matmul(X_v.T, X_v) * w / len(y_v)\n",
    "\n",
    "    else:\n",
    "        inv_C = np.linalg.inv(C)\n",
    "        w     = np.matmul(np.matmul(inv_C, X_v.T), y)\n",
    "        R2i   = np.matmul(np.diag(w.T), np.matmul(np.matmul(X_v.T, X_v), w)) / len(y_v)\n",
    "\n",
    "    return w, R2i\n",
    "\n"
   ],
   "id": "d8d334528784542a",
   "outputs": [],
   "execution_count": 36
  },
  {
   "metadata": {
    "ExecuteTime": {
     "end_time": "2025-06-20T12:45:03.470623Z",
     "start_time": "2025-06-20T12:44:51.979175Z"
    }
   },
   "cell_type": "code",
   "source": [
    "samples = 10000\n",
    "\n",
    "def covariance(a): \n",
    "    b = np.sqrt(1 - a**2)\n",
    "    return np.array([\n",
    "            [1, a, b],\n",
    "            [a, 1, 0],\n",
    "            [b, 0, 1]])\n",
    "\n",
    "phi2_plot = []\n",
    "\n",
    "for alpha in np.arange(0.0, 1.0, 0.01):\n",
    "    phi = []\n",
    "    for i in range(100):\n",
    "        data = np.random.multivariate_normal(mean=np.zeros(3), cov=covariance(alpha), size=samples, check_valid='warn')\n",
    "        \n",
    "        X = data[:,:2]\n",
    "        y = data[:, 2]\n",
    "        \n",
    "        (w, Rn), (w1, R1), (w2, R2) =  model(X, y),  model(X[:,0], y),  model(X[:,1], y)\n",
    "        phi_1 = 0.5 * (R1 + sum(Rn) - R2)\n",
    "        phi_2 = 0.5 * (R2 + sum(Rn) - R1)\n",
    "        phi.append([alpha, phi_1, phi_2])\n",
    "\n",
    "    \n",
    "    phi_mean = np.mean(np.array(phi), axis=0)\n",
    "    phi2_plot.append(phi_mean)\n",
    "    \n",
    "    \n",
    "\n",
    "phi2_plot = np.array(phi2_plot)\n",
    "\n"
   ],
   "id": "a7d6696e53442ff5",
   "outputs": [],
   "execution_count": 53
  },
  {
   "metadata": {
    "ExecuteTime": {
     "end_time": "2025-06-20T12:28:00.484217Z",
     "start_time": "2025-06-20T12:28:00.474308Z"
    }
   },
   "cell_type": "code",
   "source": "phi2_plot",
   "id": "994acb7d29e50840",
   "outputs": [
    {
     "data": {
      "text/plain": [
       "array([[0.00000000e+00, 9.99708208e-01, 4.82102480e-05],\n",
       "       [1.00000000e-02, 1.00025447e+00, 9.93856150e-05],\n",
       "       [2.00000000e-02, 9.99043483e-01, 2.48767588e-04],\n",
       "       [3.00000000e-02, 9.98789869e-01, 5.01626467e-04],\n",
       "       [4.00000000e-02, 9.98831175e-01, 8.48574328e-04],\n",
       "       [5.00000000e-02, 9.98424418e-01, 1.29893954e-03],\n",
       "       [6.00000000e-02, 9.97941615e-01, 1.85126108e-03],\n",
       "       [7.00000000e-02, 9.97972562e-01, 2.50218962e-03],\n",
       "       [8.00000000e-02, 9.96579790e-01, 3.24912370e-03],\n",
       "       [9.00000000e-02, 9.95480791e-01, 4.10065373e-03],\n",
       "       [1.00000000e-01, 9.94742379e-01, 5.04817312e-03],\n",
       "       [1.10000000e-01, 9.93617796e-01, 6.09549937e-03],\n",
       "       [1.20000000e-01, 9.92821760e-01, 7.24612558e-03],\n",
       "       [1.30000000e-01, 9.92168198e-01, 8.49145254e-03],\n",
       "       [1.40000000e-01, 9.90401799e-01, 9.85487859e-03],\n",
       "       [1.50000000e-01, 9.88882338e-01, 1.12840207e-02],\n",
       "       [1.60000000e-01, 9.86911088e-01, 1.28491196e-02],\n",
       "       [1.70000000e-01, 9.86014407e-01, 1.45014420e-02],\n",
       "       [1.80000000e-01, 9.83759816e-01, 1.62523273e-02],\n",
       "       [1.90000000e-01, 9.81552521e-01, 1.81134445e-02],\n",
       "       [2.00000000e-01, 9.79926950e-01, 2.00358224e-02],\n",
       "       [2.10000000e-01, 9.78833302e-01, 2.20976607e-02],\n",
       "       [2.20000000e-01, 9.75362192e-01, 2.42413560e-02],\n",
       "       [2.30000000e-01, 9.73800569e-01, 2.65050522e-02],\n",
       "       [2.40000000e-01, 9.71353364e-01, 2.88347511e-02],\n",
       "       [2.50000000e-01, 9.68673475e-01, 3.13185695e-02],\n",
       "       [2.60000000e-01, 9.66928481e-01, 3.38655283e-02],\n",
       "       [2.70000000e-01, 9.63727771e-01, 3.65075162e-02],\n",
       "       [2.80000000e-01, 9.60699389e-01, 3.92342910e-02],\n",
       "       [2.90000000e-01, 9.58760816e-01, 4.21003006e-02],\n",
       "       [3.00000000e-01, 9.54157765e-01, 4.50353415e-02],\n",
       "       [3.10000000e-01, 9.52272615e-01, 4.81259132e-02],\n",
       "       [3.20000000e-01, 9.49217414e-01, 5.12710810e-02],\n",
       "       [3.30000000e-01, 9.46065329e-01, 5.44638940e-02],\n",
       "       [3.40000000e-01, 9.41508006e-01, 5.78707172e-02],\n",
       "       [3.50000000e-01, 9.38337140e-01, 6.13064501e-02],\n",
       "       [3.60000000e-01, 9.35280452e-01, 6.48484689e-02],\n",
       "       [3.70000000e-01, 9.30858306e-01, 6.85034925e-02],\n",
       "       [3.80000000e-01, 9.27675102e-01, 7.23011058e-02],\n",
       "       [3.90000000e-01, 9.24115856e-01, 7.60328672e-02],\n",
       "       [4.00000000e-01, 9.19843810e-01, 8.00146413e-02],\n",
       "       [4.10000000e-01, 9.15770902e-01, 8.40642130e-02],\n",
       "       [4.20000000e-01, 9.11550675e-01, 8.81927092e-02],\n",
       "       [4.30000000e-01, 9.07198704e-01, 9.24363378e-02],\n",
       "       [4.40000000e-01, 9.02851185e-01, 9.68814815e-02],\n",
       "       [4.50000000e-01, 8.98704672e-01, 1.01282655e-01],\n",
       "       [4.60000000e-01, 8.95144801e-01, 1.05878234e-01],\n",
       "       [4.70000000e-01, 8.89436782e-01, 1.10529063e-01],\n",
       "       [4.80000000e-01, 8.84578599e-01, 1.15270665e-01],\n",
       "       [4.90000000e-01, 8.80653301e-01, 1.19973882e-01],\n",
       "       [5.00000000e-01, 8.74872734e-01, 1.24896573e-01],\n",
       "       [5.10000000e-01, 8.70473465e-01, 1.30140201e-01],\n",
       "       [5.20000000e-01, 8.64502113e-01, 1.35139573e-01],\n",
       "       [5.30000000e-01, 8.58977689e-01, 1.40457269e-01],\n",
       "       [5.40000000e-01, 8.54380002e-01, 1.45885976e-01],\n",
       "       [5.50000000e-01, 8.48152709e-01, 1.51144546e-01],\n",
       "       [5.60000000e-01, 8.43172056e-01, 1.56990195e-01],\n",
       "       [5.70000000e-01, 8.36733528e-01, 1.62549333e-01],\n",
       "       [5.80000000e-01, 8.32209466e-01, 1.68282695e-01],\n",
       "       [5.90000000e-01, 8.25028596e-01, 1.73868868e-01],\n",
       "       [6.00000000e-01, 8.19797157e-01, 1.79976656e-01],\n",
       "       [6.10000000e-01, 8.14018567e-01, 1.85943646e-01],\n",
       "       [6.20000000e-01, 8.07876191e-01, 1.92266586e-01],\n",
       "       [6.30000000e-01, 8.02345104e-01, 1.98597125e-01],\n",
       "       [6.40000000e-01, 7.95827231e-01, 2.04899298e-01],\n",
       "       [6.50000000e-01, 7.88697058e-01, 2.11261785e-01],\n",
       "       [6.60000000e-01, 7.82049961e-01, 2.17879216e-01],\n",
       "       [6.70000000e-01, 7.75210671e-01, 2.24494148e-01],\n",
       "       [6.80000000e-01, 7.68959689e-01, 2.31104579e-01],\n",
       "       [6.90000000e-01, 7.62375748e-01, 2.37962177e-01],\n",
       "       [7.00000000e-01, 7.53968381e-01, 2.44747193e-01],\n",
       "       [7.10000000e-01, 7.48002835e-01, 2.52167751e-01],\n",
       "       [7.20000000e-01, 7.40859977e-01, 2.59262507e-01],\n",
       "       [7.30000000e-01, 7.33517046e-01, 2.66591776e-01],\n",
       "       [7.40000000e-01, 7.26369752e-01, 2.73704419e-01],\n",
       "       [7.50000000e-01, 7.18560199e-01, 2.81219193e-01],\n",
       "       [7.60000000e-01, 7.11492131e-01, 2.89038453e-01],\n",
       "       [7.70000000e-01, 7.03237592e-01, 2.96255165e-01],\n",
       "       [7.80000000e-01, 6.95963048e-01, 3.04418104e-01],\n",
       "       [7.90000000e-01, 6.88076307e-01, 3.12003736e-01],\n",
       "       [8.00000000e-01, 6.80720401e-01, 3.20049440e-01],\n",
       "       [8.10000000e-01, 6.71699279e-01, 3.28048208e-01],\n",
       "       [8.20000000e-01, 6.63636892e-01, 3.36333105e-01],\n",
       "       [8.30000000e-01, 6.55387189e-01, 3.44490064e-01],\n",
       "       [8.40000000e-01, 6.47404487e-01, 3.52769863e-01],\n",
       "       [8.50000000e-01, 6.38085996e-01, 3.61138207e-01],\n",
       "       [8.60000000e-01, 6.30721894e-01, 3.69916622e-01],\n",
       "       [8.70000000e-01, 6.21126244e-01, 3.78429422e-01],\n",
       "       [8.80000000e-01, 6.12724547e-01, 3.87350815e-01],\n",
       "       [8.90000000e-01, 6.03983493e-01, 3.95799777e-01],\n",
       "       [9.00000000e-01, 5.94991444e-01, 4.04786921e-01],\n",
       "       [9.10000000e-01, 5.86251424e-01, 4.13970508e-01],\n",
       "       [9.20000000e-01, 5.76955024e-01, 4.23215938e-01],\n",
       "       [9.30000000e-01, 5.67098014e-01, 4.32567780e-01],\n",
       "       [9.40000000e-01, 5.58032668e-01, 4.41749559e-01],\n",
       "       [9.50000000e-01, 5.48685361e-01, 4.51204546e-01],\n",
       "       [9.60000000e-01, 5.39265597e-01, 4.60788315e-01],\n",
       "       [9.70000000e-01, 5.29579902e-01, 4.70564579e-01],\n",
       "       [9.80000000e-01, 5.19771225e-01, 4.80452044e-01],\n",
       "       [9.90000000e-01, 5.09836861e-01, 4.89979336e-01]])"
      ]
     },
     "execution_count": 38,
     "metadata": {},
     "output_type": "execute_result"
    }
   ],
   "execution_count": 38
  },
  {
   "metadata": {
    "ExecuteTime": {
     "end_time": "2025-06-20T12:28:01.144764Z",
     "start_time": "2025-06-20T12:28:01.056681Z"
    }
   },
   "cell_type": "code",
   "source": [
    "plt.scatter(phi2_plot[:,0], phi2_plot[:,1], color='blue' )\n",
    "plt.scatter(phi2_plot[:,0], phi2_plot[:,2], color='red' )\n",
    "plt.scatter(phi2_plot[:,0], (phi2_plot[:,1] + phi2_plot[:,2]), color='green' )\n"
   ],
   "id": "478372519c45566b",
   "outputs": [
    {
     "data": {
      "text/plain": [
       "<matplotlib.collections.PathCollection at 0x2132accbfb0>"
      ]
     },
     "execution_count": 39,
     "metadata": {},
     "output_type": "execute_result"
    },
    {
     "data": {
      "text/plain": [
       "<Figure size 640x480 with 1 Axes>"
      ],
      "image/png": "[encoded data removed]"
     },
     "metadata": {},
     "output_type": "display_data"
    }
   ],
   "execution_count": 39
  },
  {
   "metadata": {
    "ExecuteTime": {
     "end_time": "2025-06-20T12:41:14.050870Z",
     "start_time": "2025-06-20T12:41:14.038296Z"
    }
   },
   "cell_type": "code",
   "source": "data = np.random.multivariate_normal(mean=np.zeros(3), cov=covariance(np.sqrt(0.5)), size=samples, check_valid='warn')",
   "id": "5e779870e88005f8",
   "outputs": [],
   "execution_count": 43
  },
  {
   "metadata": {
    "ExecuteTime": {
     "end_time": "2025-06-20T12:41:53.395767Z",
     "start_time": "2025-06-20T12:41:53.377789Z"
    }
   },
   "cell_type": "code",
   "source": [
    "X = data[:,:2]\n",
    "y = data[:, 2]\n",
    "\n",
    "(w, Rn), (w1, R1), (w2, R2) =  model(X, y),  model(X[:,0], y),  model(X[:,1], y)"
   ],
   "id": "9ba9830f8c2d906",
   "outputs": [],
   "execution_count": 44
  },
  {
   "metadata": {
    "ExecuteTime": {
     "end_time": "2025-06-20T12:42:10.142983Z",
     "start_time": "2025-06-20T12:42:10.126857Z"
    }
   },
   "cell_type": "code",
   "source": "R2",
   "id": "51d1e381036bce1",
   "outputs": [
    {
     "data": {
      "text/plain": [
       "1.1587293702357554e-05"
      ]
     },
     "execution_count": 47,
     "metadata": {},
     "output_type": "execute_result"
    }
   ],
   "execution_count": 47
  },
  {
   "metadata": {},
   "cell_type": "code",
   "outputs": [],
   "execution_count": null,
   "source": "",
   "id": "678bd69ac13c8f62"
  }
 ],
 "metadata": {
  "kernelspec": {
   "display_name": "Python 3 (ipykernel)",
   "language": "python",
   "name": "python3"
  },
  "language_info": {
   "codemirror_mode": {
    "name": "ipython",
    "version": 3
   },
   "file_extension": ".py",
   "mimetype": "text/x-python",
   "name": "python",
   "nbconvert_exporter": "python",
   "pygments_lexer": "ipython3",
   "version": "3.13.3"
  }
 },
 "nbformat": 4,
 "nbformat_minor": 5
}
