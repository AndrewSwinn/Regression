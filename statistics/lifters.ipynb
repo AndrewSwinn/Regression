{
 "cells": [
  {
   "cell_type": "code",
   "id": "initial_id",
   "metadata": {
    "collapsed": true,
    "ExecuteTime": {
     "end_time": "2025-07-15T10:50:44.264078Z",
     "start_time": "2025-07-15T10:50:44.147561Z"
    }
   },
   "source": "import numpy as np",
   "outputs": [],
   "execution_count": 1
  },
  {
   "metadata": {
    "ExecuteTime": {
     "end_time": "2025-07-15T11:01:28.822330Z",
     "start_time": "2025-07-15T11:01:28.819857Z"
    }
   },
   "cell_type": "code",
   "source": [
    "#Define data using probabilities given\n",
    "X = [[0,0]] + 4 * [[1,0]] + 5 * [[1,1]]\n",
    "y_m = 1 * [0] + 9 * [1]\n",
    "y_b = 5 * [0] + 5 * [1]\n",
    "X, y_m, y_b  = np.array(X), np.array(y_m), np.array(y_b)\n",
    "y_m_mu, y_m_std = y_m.mean(axis=0), y_m.std(axis=0)\n",
    "y_b_mu, y_b_std = y_b.mean(axis=0), y_b.std(axis=0)\n",
    "X_mu,   X_std   = X.mean(axis=0),   X.std(axis=0)\n",
    "\n",
    "# Standardise Data\n",
    "X = (X - X_mu) / X_std\n",
    "y_m = (y_m - y_m_mu) / y_m_std\n",
    "y_b = (y_b - y_b_mu) / y_b_std\n"
   ],
   "id": "e68f8d57c72605b5",
   "outputs": [],
   "execution_count": 26
  },
  {
   "metadata": {
    "ExecuteTime": {
     "end_time": "2025-07-15T11:13:31.798605Z",
     "start_time": "2025-07-15T11:13:31.796106Z"
    }
   },
   "cell_type": "code",
   "source": [
    "C = 0.1 * np.matmul(X.T, X)\n",
    "r_m = 0.1 * np.matmul(X.T, y_m)\n",
    "r_b = 0.1 * np.matmul(X.T, y_b)"
   ],
   "id": "e1972f147745130a",
   "outputs": [],
   "execution_count": 39
  },
  {
   "metadata": {
    "ExecuteTime": {
     "end_time": "2025-07-15T11:13:34.079041Z",
     "start_time": "2025-07-15T11:13:34.077035Z"
    }
   },
   "cell_type": "code",
   "source": [
    "R2m = np.matmul(cov, np.matmul(X.T, y_m))\n",
    "R2b = np.matmul(cov, np.matmul(X.T, y_b))"
   ],
   "id": "db27f7b4f8a6f7fa",
   "outputs": [],
   "execution_count": 40
  },
  {
   "metadata": {
    "ExecuteTime": {
     "end_time": "2025-07-15T15:52:04.536555Z",
     "start_time": "2025-07-15T15:52:04.521679Z"
    }
   },
   "cell_type": "code",
   "source": "y_m_std",
   "id": "bf162b01ad3efd4",
   "outputs": [
    {
     "data": {
      "text/plain": [
       "np.float64(0.30000000000000004)"
      ]
     },
     "execution_count": 47,
     "metadata": {},
     "output_type": "execute_result"
    }
   ],
   "execution_count": 47
  },
  {
   "metadata": {},
   "cell_type": "code",
   "outputs": [],
   "execution_count": null,
   "source": "",
   "id": "73eed327abda48a3"
  }
 ],
 "metadata": {
  "kernelspec": {
   "display_name": "Python 3",
   "language": "python",
   "name": "python3"
  },
  "language_info": {
   "codemirror_mode": {
    "name": "ipython",
    "version": 2
   },
   "file_extension": ".py",
   "mimetype": "text/x-python",
   "name": "python",
   "nbconvert_exporter": "python",
   "pygments_lexer": "ipython2",
   "version": "2.7.6"
  }
 },
 "nbformat": 4,
 "nbformat_minor": 5
}
