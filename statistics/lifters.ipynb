{
 "cells": [
  {
   "cell_type": "code",
   "id": "initial_id",
   "metadata": {
    "collapsed": true,
    "ExecuteTime": {
     "end_time": "2025-07-16T13:16:54.568749Z",
     "start_time": "2025-07-16T13:16:54.463394Z"
    }
   },
   "source": "import numpy as np",
   "outputs": [],
   "execution_count": 1
  },
  {
   "metadata": {
    "ExecuteTime": {
     "end_time": "2025-07-16T14:04:43.674744Z",
     "start_time": "2025-07-16T14:04:43.671882Z"
    }
   },
   "cell_type": "code",
   "source": [
    "n = 100\n",
    "#Define data using probabilities given\n",
    "p_00, p_01, p_10, p_11 = 0.1, 0.0, 0.4, 0.5\n",
    "\n",
    "X = (int(n * p_00) * [[0,0]] +\n",
    "     int(n * p_01) * [[0,1]] +\n",
    "     int(n * p_10) * [[1,0]] +\n",
    "     int(n * p_11) * [[1,1]])\n",
    "\n",
    "# Create target data; y_m = 1 for all men, y_b = 1 for men who can lift\n",
    "y_m = (int(n * p_00) + int(n * p_01))                 * [0] + (int(n * p_10) + int(n * p_11)) * [1]\n",
    "y_b = (int(n * p_00) + int(n * p_01) + int(n * p_10)) * [0] + (              + int(n * p_11)) * [1]\n",
    "X, y_m, y_b  = np.array(X), np.array(y_m), np.array(y_b)\n",
    "\n",
    "# Standardise Data\n",
    "y_m_mu, y_m_std = y_m.mean(axis=0), y_m.std(axis=0)\n",
    "y_b_mu, y_b_std = y_b.mean(axis=0), y_b.std(axis=0)\n",
    "X_mu,   X_std   = X.mean(axis=0),   X.std(axis=0)\n",
    "\n",
    "X = (X - X_mu) / X_std\n",
    "y_m = (y_m - y_m_mu) / y_m_std\n",
    "y_b = (y_b - y_b_mu) / y_b_std\n"
   ],
   "id": "e68f8d57c72605b5",
   "outputs": [],
   "execution_count": 39
  },
  {
   "metadata": {
    "ExecuteTime": {
     "end_time": "2025-07-16T14:05:22.874328Z",
     "start_time": "2025-07-16T14:05:22.872088Z"
    }
   },
   "cell_type": "code",
   "source": [
    "#Compute R2 (Regression Coefficient) for both models\n",
    "C = np.matmul(X.T, X) / n\n",
    "invC = np.linalg.inv(C)\n",
    "r_m, r_b = np.matmul(X.T, y_m) / n, np.matmul(X.T, y_b) / n\n",
    "a_m, a_b = np.matmul(invC, r_m),    np.matmul(invC, r_b)\n",
    "R2m, R2b = np.matmul(r_m, a_m),     np.matmul(r_m, a_m)"
   ],
   "id": "e1972f147745130a",
   "outputs": [],
   "execution_count": 40
  },
  {
   "metadata": {
    "ExecuteTime": {
     "end_time": "2025-07-16T14:07:38.415108Z",
     "start_time": "2025-07-16T14:07:38.413267Z"
    }
   },
   "cell_type": "code",
   "source": "R2 = np.matmul(np.matmul(a_m.T, C), a_m)",
   "id": "db27f7b4f8a6f7fa",
   "outputs": [],
   "execution_count": 45
  },
  {
   "metadata": {
    "ExecuteTime": {
     "end_time": "2025-07-16T14:09:41.744192Z",
     "start_time": "2025-07-16T14:09:41.741165Z"
    }
   },
   "cell_type": "code",
   "source": "y_m",
   "id": "bf162b01ad3efd4",
   "outputs": [
    {
     "data": {
      "text/plain": [
       "array([-3.        , -3.        , -3.        , -3.        , -3.        ,\n",
       "       -3.        , -3.        , -3.        , -3.        , -3.        ,\n",
       "        0.33333333,  0.33333333,  0.33333333,  0.33333333,  0.33333333,\n",
       "        0.33333333,  0.33333333,  0.33333333,  0.33333333,  0.33333333,\n",
       "        0.33333333,  0.33333333,  0.33333333,  0.33333333,  0.33333333,\n",
       "        0.33333333,  0.33333333,  0.33333333,  0.33333333,  0.33333333,\n",
       "        0.33333333,  0.33333333,  0.33333333,  0.33333333,  0.33333333,\n",
       "        0.33333333,  0.33333333,  0.33333333,  0.33333333,  0.33333333,\n",
       "        0.33333333,  0.33333333,  0.33333333,  0.33333333,  0.33333333,\n",
       "        0.33333333,  0.33333333,  0.33333333,  0.33333333,  0.33333333,\n",
       "        0.33333333,  0.33333333,  0.33333333,  0.33333333,  0.33333333,\n",
       "        0.33333333,  0.33333333,  0.33333333,  0.33333333,  0.33333333,\n",
       "        0.33333333,  0.33333333,  0.33333333,  0.33333333,  0.33333333,\n",
       "        0.33333333,  0.33333333,  0.33333333,  0.33333333,  0.33333333,\n",
       "        0.33333333,  0.33333333,  0.33333333,  0.33333333,  0.33333333,\n",
       "        0.33333333,  0.33333333,  0.33333333,  0.33333333,  0.33333333,\n",
       "        0.33333333,  0.33333333,  0.33333333,  0.33333333,  0.33333333,\n",
       "        0.33333333,  0.33333333,  0.33333333,  0.33333333,  0.33333333,\n",
       "        0.33333333,  0.33333333,  0.33333333,  0.33333333,  0.33333333,\n",
       "        0.33333333,  0.33333333,  0.33333333,  0.33333333,  0.33333333])"
      ]
     },
     "execution_count": 49,
     "metadata": {},
     "output_type": "execute_result"
    }
   ],
   "execution_count": 49
  },
  {
   "metadata": {},
   "cell_type": "code",
   "outputs": [],
   "execution_count": null,
   "source": "",
   "id": "73eed327abda48a3"
  }
 ],
 "metadata": {
  "kernelspec": {
   "display_name": "Python 3",
   "language": "python",
   "name": "python3"
  },
  "language_info": {
   "codemirror_mode": {
    "name": "ipython",
    "version": 2
   },
   "file_extension": ".py",
   "mimetype": "text/x-python",
   "name": "python",
   "nbconvert_exporter": "python",
   "pygments_lexer": "ipython2",
   "version": "2.7.6"
  }
 },
 "nbformat": 4,
 "nbformat_minor": 5
}
