{
 "cells": [
  {
   "cell_type": "code",
   "id": "initial_id",
   "metadata": {
    "collapsed": true,
    "ExecuteTime": {
     "end_time": "2025-05-01T18:01:25.697106Z",
     "start_time": "2025-05-01T18:01:25.512237Z"
    }
   },
   "source": "import numpy as np\n",
   "outputs": [],
   "execution_count": 1
  },
  {
   "metadata": {
    "ExecuteTime": {
     "end_time": "2025-05-01T18:25:04.121230Z",
     "start_time": "2025-05-01T18:25:04.118343Z"
    }
   },
   "cell_type": "code",
   "source": [
    "# Generate multi-dimensioned noisy data and add a correlated column.\n",
    "samples, features = 1000, 5\n",
    "noise             = np.random.rand(samples, features)\n",
    "correlator        = np.random.rand(features, 1)\n",
    "correlations      = np.matmul(noise, correlator)\n",
    "data              = np.concatenate((noise, correlations), axis=1)"
   ],
   "id": "a7d6696e53442ff5",
   "outputs": [],
   "execution_count": 32
  },
  {
   "metadata": {
    "ExecuteTime": {
     "end_time": "2025-05-01T18:25:04.879905Z",
     "start_time": "2025-05-01T18:25:04.875390Z"
    }
   },
   "cell_type": "code",
   "source": "data",
   "id": "70210cab9d147f04",
   "outputs": [
    {
     "data": {
      "text/plain": [
       "array([[0.84310845, 0.51992205, 0.87090434, 0.94827422, 0.47326818,\n",
       "        0.61700583],\n",
       "       [0.91239899, 0.9153266 , 0.57404572, 0.91231154, 0.61082135,\n",
       "        0.6368705 ],\n",
       "       [0.31477495, 0.66024178, 0.35845138, 0.11668891, 0.96649575,\n",
       "        0.32614616],\n",
       "       ...,\n",
       "       [0.6317714 , 0.81196734, 0.24754461, 0.71676094, 0.41160173,\n",
       "        0.43223648],\n",
       "       [0.81509089, 0.42027516, 0.87519168, 0.88477446, 0.31991253,\n",
       "        0.58814589],\n",
       "       [0.28817254, 0.077613  , 0.57998102, 0.57603863, 0.54045341,\n",
       "        0.27272626]])"
      ]
     },
     "execution_count": 33,
     "metadata": {},
     "output_type": "execute_result"
    }
   ],
   "execution_count": 33
  },
  {
   "metadata": {
    "ExecuteTime": {
     "end_time": "2025-05-01T18:26:32.653936Z",
     "start_time": "2025-05-01T18:26:32.649559Z"
    }
   },
   "cell_type": "code",
   "source": "np.cov(data, rowvar=False)\n",
   "id": "d87e3ea586f181b0",
   "outputs": [
    {
     "data": {
      "text/plain": [
       "array([[ 0.08324043,  0.00158702,  0.00323066,  0.00042355,  0.000335  ,\n",
       "         0.03358193],\n",
       "       [ 0.00158702,  0.08089204, -0.00096109, -0.00272398,  0.00120943,\n",
       "         0.01177254],\n",
       "       [ 0.00323066, -0.00096109,  0.08168719, -0.00308415,  0.00191727,\n",
       "         0.0195427 ],\n",
       "       [ 0.00042355, -0.00272398, -0.00308415,  0.0865112 , -0.00047568,\n",
       "        -0.00059409],\n",
       "       [ 0.000335  ,  0.00120943,  0.00191727, -0.00047568,  0.08677134,\n",
       "         0.00335106],\n",
       "       [ 0.03358193,  0.01177254,  0.0195427 , -0.00059409,  0.00335106,\n",
       "         0.01930359]])"
      ]
     },
     "execution_count": 37,
     "metadata": {},
     "output_type": "execute_result"
    }
   ],
   "execution_count": 37
  },
  {
   "metadata": {
    "ExecuteTime": {
     "end_time": "2025-05-01T18:27:58.848444Z",
     "start_time": "2025-05-01T18:27:58.844685Z"
    }
   },
   "cell_type": "code",
   "source": "correlator",
   "id": "fe69365be8c7c001",
   "outputs": [
    {
     "data": {
      "text/plain": [
       "array([[0.39189353],\n",
       "       [0.14019327],\n",
       "       [0.22482347],\n",
       "       [0.00380945],\n",
       "       [0.03020566]])"
      ]
     },
     "execution_count": 43,
     "metadata": {},
     "output_type": "execute_result"
    }
   ],
   "execution_count": 43
  },
  {
   "metadata": {},
   "cell_type": "code",
   "outputs": [],
   "execution_count": null,
   "source": "",
   "id": "285bb1e28ad0badf"
  }
 ],
 "metadata": {
  "kernelspec": {
   "display_name": "Python 3",
   "language": "python",
   "name": "python3"
  },
  "language_info": {
   "codemirror_mode": {
    "name": "ipython",
    "version": 2
   },
   "file_extension": ".py",
   "mimetype": "text/x-python",
   "name": "python",
   "nbconvert_exporter": "python",
   "pygments_lexer": "ipython2",
   "version": "2.7.6"
  }
 },
 "nbformat": 4,
 "nbformat_minor": 5
}
