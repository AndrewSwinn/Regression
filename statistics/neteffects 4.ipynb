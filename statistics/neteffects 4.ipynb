{
 "cells": [
  {
   "cell_type": "code",
   "id": "initial_id",
   "metadata": {
    "collapsed": true,
    "ExecuteTime": {
     "end_time": "2025-07-06T10:45:40.063343Z",
     "start_time": "2025-07-06T10:45:40.061034Z"
    }
   },
   "source": [
    "import numpy as np\n",
    "import copy\n",
    "from   sklearn.model_selection import train_test_split\n",
    "from   sklearn.linear_model import LinearRegression\n",
    "from   sklearn.metrics import mean_squared_error, mean_absolute_error"
   ],
   "outputs": [],
   "execution_count": 19
  },
  {
   "metadata": {
    "ExecuteTime": {
     "end_time": "2025-07-06T10:52:11.050273Z",
     "start_time": "2025-07-06T10:52:11.047804Z"
    }
   },
   "cell_type": "code",
   "source": [
    "def calc_R2(X_train, X_test, y_train, y_test):\n",
    "    model = LinearRegression()\n",
    "    model.fit(X_train, y_train)\n",
    "    y_pred = model.predict(X_test)\n",
    "    mse = mean_squared_error(y_test, y_pred)\n",
    "    return 1 - mse"
   ],
   "id": "75786567fde262c3",
   "outputs": [],
   "execution_count": 51
  },
  {
   "metadata": {
    "ExecuteTime": {
     "end_time": "2025-07-06T10:56:00.135833Z",
     "start_time": "2025-07-06T10:56:00.090370Z"
    }
   },
   "cell_type": "code",
   "source": [
    "#create X, y variables - enforcing colinearitry\n",
    "\n",
    "sample_size = 1000000\n",
    "\n",
    "x1    = np.random.standard_normal(sample_size).reshape(sample_size, 1)\n",
    "noise = np.random.standard_normal(sample_size).reshape(sample_size, 1) * 0.1\n",
    "x2    = noise + copy.copy(x1)\n",
    "\n",
    "X = np.concat([x1, x2], axis=1)\n",
    "\n",
    "y  = np.random.standard_normal(sample_size).reshape(sample_size, 1)\n",
    "\n",
    "X_cov_init = np.matmul(X.T, X)/sample_size\n",
    "y_cov_init = np.matmul(X.T, y)/sample_size\n"
   ],
   "id": "c22dc98afdece786",
   "outputs": [],
   "execution_count": 127
  },
  {
   "metadata": {
    "ExecuteTime": {
     "end_time": "2025-07-06T10:56:00.286332Z",
     "start_time": "2025-07-06T10:56:00.247315Z"
    }
   },
   "cell_type": "code",
   "source": "X_train, X_test, y_train, y_test = train_test_split(X, y, test_size=0.2, random_state=42)",
   "id": "f1f3e00841089669",
   "outputs": [],
   "execution_count": 128
  },
  {
   "metadata": {
    "ExecuteTime": {
     "end_time": "2025-07-06T10:56:00.419394Z",
     "start_time": "2025-07-06T10:56:00.387833Z"
    }
   },
   "cell_type": "code",
   "source": "calc_R2(X_train, X_test, y_train, y_test)",
   "id": "5d434c63d1acbbb1",
   "outputs": [
    {
     "data": {
      "text/plain": [
       "-0.0052536315731386285"
      ]
     },
     "execution_count": 129,
     "metadata": {},
     "output_type": "execute_result"
    }
   ],
   "execution_count": 129
  },
  {
   "metadata": {
    "ExecuteTime": {
     "end_time": "2025-07-06T10:56:02.738847Z",
     "start_time": "2025-07-06T10:56:00.529789Z"
    }
   },
   "cell_type": "code",
   "source": [
    "changes = 10000000\n",
    "idx = np.random.randint(low=0, high=sample_size-1, size=changes, dtype=int)\n",
    "for id in idx:\n",
    "    x2[id] = y[id]\n",
    "X2 = X = np.concat([x1, x2], axis=1)"
   ],
   "id": "f2c7953d6bc72f14",
   "outputs": [],
   "execution_count": 130
  },
  {
   "metadata": {
    "ExecuteTime": {
     "end_time": "2025-07-06T10:56:02.794201Z",
     "start_time": "2025-07-06T10:56:02.754961Z"
    }
   },
   "cell_type": "code",
   "source": "X_train, X_test, y_train, y_test = train_test_split(X2, y, test_size=0.2, random_state=42)\n",
   "id": "f58711d4f56e3a0c",
   "outputs": [],
   "execution_count": 131
  },
  {
   "metadata": {
    "ExecuteTime": {
     "end_time": "2025-07-06T10:56:02.850542Z",
     "start_time": "2025-07-06T10:56:02.816794Z"
    }
   },
   "cell_type": "code",
   "source": "calc_R2(X_train, X_test, y_train, y_test)",
   "id": "d3c4a29ea08bfa4f",
   "outputs": [
    {
     "data": {
      "text/plain": [
       "0.9997938701121403"
      ]
     },
     "execution_count": 132,
     "metadata": {},
     "output_type": "execute_result"
    }
   ],
   "execution_count": 132
  },
  {
   "metadata": {
    "ExecuteTime": {
     "end_time": "2025-07-06T10:50:13.595853Z",
     "start_time": "2025-07-06T10:50:13.581803Z"
    }
   },
   "cell_type": "code",
   "source": "np.matmul(X2.T, X2)/sample_size",
   "id": "5c551958e3a5c434",
   "outputs": [
    {
     "data": {
      "text/plain": [
       "array([[ 0.99766975, -0.00100102],\n",
       "       [-0.00100102,  0.72295421]])"
      ]
     },
     "execution_count": 36,
     "metadata": {},
     "output_type": "execute_result"
    }
   ],
   "execution_count": 36
  },
  {
   "metadata": {
    "ExecuteTime": {
     "end_time": "2025-07-06T08:21:05.037977Z",
     "start_time": "2025-07-06T08:21:05.029708Z"
    }
   },
   "cell_type": "code",
   "source": "np.matmul(X2.T, y)/sample_size",
   "id": "c0a80cd62eebc398",
   "outputs": [
    {
     "data": {
      "text/plain": [
       "array([[0.00170343],\n",
       "       [0.05022083]])"
      ]
     },
     "execution_count": 18,
     "metadata": {},
     "output_type": "execute_result"
    }
   ],
   "execution_count": 18
  },
  {
   "metadata": {},
   "cell_type": "code",
   "outputs": [],
   "execution_count": null,
   "source": "\n",
   "id": "dfa07bfb22c6059a"
  }
 ],
 "metadata": {
  "kernelspec": {
   "display_name": "Python 3",
   "language": "python",
   "name": "python3"
  },
  "language_info": {
   "codemirror_mode": {
    "name": "ipython",
    "version": 2
   },
   "file_extension": ".py",
   "mimetype": "text/x-python",
   "name": "python",
   "nbconvert_exporter": "python",
   "pygments_lexer": "ipython2",
   "version": "2.7.6"
  }
 },
 "nbformat": 4,
 "nbformat_minor": 5
}
