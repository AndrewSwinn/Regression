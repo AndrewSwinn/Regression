{
 "cells": [
  {
   "cell_type": "code",
   "id": "initial_id",
   "metadata": {
    "collapsed": true,
    "ExecuteTime": {
     "end_time": "2025-05-08T08:06:28.076591Z",
     "start_time": "2025-05-08T08:06:28.069421Z"
    }
   },
   "source": "import numpy as np",
   "outputs": [],
   "execution_count": 2
  },
  {
   "metadata": {
    "ExecuteTime": {
     "end_time": "2025-05-08T08:06:58.799292Z",
     "start_time": "2025-05-08T08:06:58.786052Z"
    }
   },
   "cell_type": "code",
   "source": [
    "theta = 17\n",
    "orth  = theta + 90\n",
    "\n",
    "W = np.array([[np.cos(np.deg2rad(theta)), np.sin(np.deg2rad(theta))],[np.cos(np.deg2rad(orth)), np.sin(np.deg2rad(orth))]])\n"
   ],
   "id": "d4071813c69d33f5",
   "outputs": [
    {
     "data": {
      "text/plain": [
       "0.29237170472273677"
      ]
     },
     "execution_count": 5,
     "metadata": {},
     "output_type": "execute_result"
    }
   ],
   "execution_count": 5
  },
  {
   "metadata": {
    "ExecuteTime": {
     "end_time": "2025-05-08T08:07:00.511354Z",
     "start_time": "2025-05-08T08:07:00.504218Z"
    }
   },
   "cell_type": "code",
   "source": "W",
   "id": "d8db592670b73e7e",
   "outputs": [
    {
     "data": {
      "text/plain": [
       "array([[ 0.95630476,  0.2923717 ],\n",
       "       [-0.2923717 ,  0.95630476]])"
      ]
     },
     "execution_count": 6,
     "metadata": {},
     "output_type": "execute_result"
    }
   ],
   "execution_count": 6
  },
  {
   "metadata": {
    "ExecuteTime": {
     "end_time": "2025-05-08T08:07:40.828441Z",
     "start_time": "2025-05-08T08:07:40.770398Z"
    }
   },
   "cell_type": "code",
   "source": "np.matmul(W, np.transpose(W))",
   "id": "2960d495c958a83b",
   "outputs": [
    {
     "data": {
      "text/plain": [
       "array([[1.00000000e+00, 1.32198639e-16],\n",
       "       [1.32198639e-16, 1.00000000e+00]])"
      ]
     },
     "execution_count": 7,
     "metadata": {},
     "output_type": "execute_result"
    }
   ],
   "execution_count": 7
  },
  {
   "metadata": {
    "ExecuteTime": {
     "end_time": "2025-05-08T08:08:04.413914Z",
     "start_time": "2025-05-08T08:08:04.401035Z"
    }
   },
   "cell_type": "code",
   "source": "np.matmul(np.transpose(W), W)",
   "id": "83c3de358c174e2b",
   "outputs": [
    {
     "data": {
      "text/plain": [
       "array([[1.00000000e+00, 8.49948194e-17],\n",
       "       [8.49948194e-17, 1.00000000e+00]])"
      ]
     },
     "execution_count": 8,
     "metadata": {},
     "output_type": "execute_result"
    }
   ],
   "execution_count": 8
  },
  {
   "metadata": {
    "ExecuteTime": {
     "end_time": "2025-05-08T08:09:49.987661Z",
     "start_time": "2025-05-08T08:09:49.951044Z"
    }
   },
   "cell_type": "code",
   "source": "np.linalg.inv(W)",
   "id": "38cd8f069e4722d8",
   "outputs": [
    {
     "data": {
      "text/plain": [
       "array([[ 0.95630476, -0.2923717 ],\n",
       "       [ 0.2923717 ,  0.95630476]])"
      ]
     },
     "execution_count": 9,
     "metadata": {},
     "output_type": "execute_result"
    }
   ],
   "execution_count": 9
  },
  {
   "metadata": {},
   "cell_type": "code",
   "outputs": [],
   "execution_count": null,
   "source": "",
   "id": "d394a45c0daef061"
  }
 ],
 "metadata": {
  "kernelspec": {
   "display_name": "Python 3",
   "language": "python",
   "name": "python3"
  },
  "language_info": {
   "codemirror_mode": {
    "name": "ipython",
    "version": 2
   },
   "file_extension": ".py",
   "mimetype": "text/x-python",
   "name": "python",
   "nbconvert_exporter": "python",
   "pygments_lexer": "ipython2",
   "version": "2.7.6"
  }
 },
 "nbformat": 4,
 "nbformat_minor": 5
}
