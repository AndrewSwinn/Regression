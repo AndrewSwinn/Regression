{
 "cells": [
  {
   "cell_type": "code",
   "id": "initial_id",
   "metadata": {
    "collapsed": true,
    "ExecuteTime": {
     "end_time": "2025-06-03T16:35:44.437772Z",
     "start_time": "2025-06-03T16:35:43.075242Z"
    }
   },
   "source": [
    "import numpy as np\n",
    "import math\n",
    "from   more_itertools import powerset\n",
    "from operator import itemgetter\n",
    "#import pandas as pd\n",
    "from   ucimlrepo import fetch_ucirepo\n",
    "from   sklearn.model_selection import train_test_split\n"
   ],
   "outputs": [],
   "execution_count": 1
  },
  {
   "metadata": {
    "ExecuteTime": {
     "end_time": "2025-06-03T16:35:47.873222Z",
     "start_time": "2025-06-03T16:35:44.451575Z"
    }
   },
   "cell_type": "code",
   "source": [
    "# Load and split the data\n",
    "wine_quality = fetch_ucirepo(id=186)\n",
    "wine_subset  = wine_quality['data']['original'][wine_quality['data']['original']['color'] == 'white']\n",
    "X = np.array(wine_subset[['fixed_acidity', 'volatile_acidity', 'citric_acid','residual_sugar', 'chlorides', 'free_sulfur_dioxide', 'total_sulfur_dioxide', 'density', 'pH', 'sulphates', 'alcohol']])\n",
    "y = np.array(wine_subset['quality'])\n",
    "\n",
    "X_train, X_test, y_train, y_test = train_test_split(X, y, test_size=0.2, random_state=42)"
   ],
   "id": "5f4b7678e4621772",
   "outputs": [],
   "execution_count": 2
  },
  {
   "metadata": {
    "ExecuteTime": {
     "end_time": "2025-06-03T16:35:48.032127Z",
     "start_time": "2025-06-03T16:35:48.029416Z"
    }
   },
   "cell_type": "code",
   "source": [
    "player_names = ['fixed_acidity', 'volatile_acidity', 'citric_acid','residual_sugar', 'chlorides', 'free_sulfur_dioxide', 'total_sulfur_dioxide', 'density', 'pH', 'sulphates', 'alcohol']\n",
    "N = set([i for i in range(X.shape[1])])"
   ],
   "id": "b53bf2ce812b2e4d",
   "outputs": [],
   "execution_count": 3
  },
  {
   "metadata": {
    "ExecuteTime": {
     "end_time": "2025-06-03T16:35:48.085469Z",
     "start_time": "2025-06-03T16:35:48.080615Z"
    }
   },
   "cell_type": "code",
   "source": [
    "# Standardise the training data\n",
    "X_mu, X_sigma, y_mu, y_sigma = X_train.mean(axis=0), X_train.std(axis=0), y_train.mean(axis=0), y_train.std(axis=0)\n",
    "\n",
    "X_train = (X_train - X_mu) / X_sigma\n",
    "y_train = (y_train - y_mu) / y_sigma\n",
    "\n",
    "X_test = (X_test - X_mu) / X_sigma"
   ],
   "id": "4fd1e349bd0aa4fb",
   "outputs": [],
   "execution_count": 4
  },
  {
   "metadata": {},
   "cell_type": "markdown",
   "source": [
    "$$X^TXw = X^Ty$$ \n",
    "$$w=(X^TX)^{-1}X^Ty$$"
   ],
   "id": "c97209e61f1e9658"
  },
  {
   "metadata": {
    "ExecuteTime": {
     "end_time": "2025-06-03T16:35:48.248601Z",
     "start_time": "2025-06-03T16:35:48.222090Z"
    }
   },
   "cell_type": "code",
   "source": "w = np.matmul(np.matmul(np.linalg.inv(np.matmul(X_train.T, X_train)), X_train.T), y_train)",
   "id": "b44646f1f9a6873f",
   "outputs": [],
   "execution_count": 5
  },
  {
   "metadata": {},
   "cell_type": "markdown",
   "source": [
    "$$R^2  = \\frac{1}{N}w^TX^TXw$$\n",
    "$$R^2_i = \\frac{1}{N}w_i (X^TXw)$$"
   ],
   "id": "70355efafec695b7"
  },
  {
   "metadata": {
    "ExecuteTime": {
     "end_time": "2025-06-03T16:35:48.431674Z",
     "start_time": "2025-06-03T16:35:48.424065Z"
    }
   },
   "cell_type": "code",
   "source": [
    "R2  = np.matmul(w.T,np.matmul(np.matmul(X_train.T, X_train), w))/len(y_train)\n",
    "R2i = np.matmul(np.diag(w),np.matmul(np.matmul(X_train.T, X_train), w))/len(y_train)\n",
    "print(R2)\n",
    "print(R2i) "
   ],
   "id": "5775879f9ef0bb5a",
   "outputs": [
    {
     "name": "stdout",
     "output_type": "stream",
     "text": [
      "0.2843126626414035\n",
      "[-5.15764443e-03  4.48079867e-02  1.16066061e-04 -3.99818409e-02\n",
      "  1.29593436e-04  2.77336079e-03  1.86662385e-03  1.27245440e-01\n",
      "  1.04933860e-02  5.15467153e-03  1.36865019e-01]\n"
     ]
    }
   ],
   "execution_count": 6
  },
  {
   "metadata": {},
   "cell_type": "markdown",
   "source": [
    "$$\\hat{y} = Xw$$\n",
    "$$MSE = \\frac{1}{N}\\sum(y-\\hat{y})^2$$"
   ],
   "id": "fd099a055fd05668"
  },
  {
   "metadata": {
    "ExecuteTime": {
     "end_time": "2025-06-03T16:35:48.637686Z",
     "start_time": "2025-06-03T16:35:48.633229Z"
    }
   },
   "cell_type": "code",
   "source": [
    "yh  = np.matmul(X_test, w)\n",
    "MSE = np.matmul((y_test - yh).T, (y_test - yh)) / len(y_test)"
   ],
   "id": "83e079d06e94c9",
   "outputs": [],
   "execution_count": 7
  },
  {
   "metadata": {
    "ExecuteTime": {
     "end_time": "2025-06-03T16:35:48.747688Z",
     "start_time": "2025-06-03T16:35:48.740629Z"
    }
   },
   "cell_type": "code",
   "source": "w",
   "id": "411ae3f4c90b045",
   "outputs": [
    {
     "data": {
      "text/plain": [
       "array([ 0.04371106, -0.2193717 , -0.00827766,  0.41280525, -0.00065067,\n",
       "        0.09626305, -0.01148575, -0.42336479,  0.10171807,  0.08312901,\n",
       "        0.3170512 ])"
      ]
     },
     "execution_count": 8,
     "metadata": {},
     "output_type": "execute_result"
    }
   ],
   "execution_count": 8
  },
  {
   "metadata": {
    "ExecuteTime": {
     "end_time": "2025-06-03T19:01:27.409805Z",
     "start_time": "2025-06-03T19:01:27.402483Z"
    }
   },
   "cell_type": "code",
   "source": [
    "def predict(X_vector):\n",
    "    y_standard = np.matmul(X_vector, w)\n",
    "    y_actual   = (y_standard * y_sigma) + y_mu\n",
    "    return y_actual\n",
    "\n",
    "E_f = np.mean(predict(X_test)) # should be same as sampling\n",
    "\n",
    "def value(xi, S, X_sample):\n",
    "    X_local = np.array(X_sample)\n",
    "    X_local[:,list(S)] = X_test[xi,list(S)]\n",
    "    y_actual = predict(X_local)\n",
    "    return np.mean(y_actual) - E_f\n",
    "   \n",
    "def marginal(xi, j, S, sample_size):\n",
    "    s_idx    = np.random.randint(low=0, high=len(X_train), size=sample_size)\n",
    "    X_sample = X_train[s_idx]\n",
    "    return value(xi, S.union(j), X_sample) - value(xi, S, X_sample)\n",
    "\n",
    "def gamma(N,S):\n",
    "    return math.factorial(len(S)) * math.factorial(len(N) - len(S) - 1) / math.factorial(len(N))\n",
    "\n",
    "def phi(xi, j, N, sample_size):\n",
    "    players = N - j\n",
    "    return np.sum([gamma(N, S) * marginal(xi, j, set(S), sample_size) for S in powerset(players)])\n"
   ],
   "id": "b89f83267e50795",
   "outputs": [],
   "execution_count": 38
  },
  {
   "metadata": {
    "ExecuteTime": {
     "end_time": "2025-06-03T19:07:02.091214Z",
     "start_time": "2025-06-03T19:07:01.320166Z"
    }
   },
   "cell_type": "code",
   "source": [
    "idx   = 0\n",
    "phi_T = E_f\n",
    "phi_i = [phi(idx,{player}, N, 1000) * y_sigma for player in N]\n",
    "phi_i_sorted = sorted(enumerate(phi_i), key=itemgetter(1))\n",
    "phi_i_sorted.reverse()\n",
    "for player, p_i in phi_i_sorted:\n",
    "    print(player_names[player].ljust(20), round(p_i,2))\n",
    "print('Total phi:    ', round(sum(phi_i),3))\n",
    "print('Total Reward: ', round(E_f + sum(phi_i),3) )\n",
    "print('Expected:     ', round(E_f,3))\n",
    "print('Predicted:    ', round(predict(X_test[idx]),3))\n",
    "print('Delta:        ', round(predict(X_test[idx]) - (E_f + sum(phi_i)),3)  )\n"
   ],
   "id": "633d46a7424fe65",
   "outputs": [
    {
     "name": "stdout",
     "output_type": "stream",
     "text": [
      "residual_sugar       0.28\n",
      "alcohol              0.09\n",
      "free_sulfur_dioxide  0.09\n",
      "sulphates            0.06\n",
      "density              0.04\n",
      "chlorides            -0.0\n",
      "total_sulfur_dioxide -0.0\n",
      "citric_acid          -0.0\n",
      "volatile_acidity     -0.02\n",
      "fixed_acidity        -0.04\n",
      "pH                   -0.05\n",
      "Total phi:     0.443\n",
      "Total Reward:  6.336\n",
      "Expected:      5.893\n",
      "Predicted:     6.372\n",
      "Delta:         0.035\n"
     ]
    }
   ],
   "execution_count": 49
  },
  {
   "metadata": {
    "ExecuteTime": {
     "end_time": "2025-06-03T18:54:29.877027Z",
     "start_time": "2025-06-03T18:54:29.871551Z"
    }
   },
   "cell_type": "code",
   "source": "E_f\n",
   "id": "ff560a69e9d62c92",
   "outputs": [
    {
     "data": {
      "text/plain": [
       "np.float64(5.871362940275041)"
      ]
     },
     "execution_count": 28,
     "metadata": {},
     "output_type": "execute_result"
    }
   ],
   "execution_count": 28
  },
  {
   "metadata": {},
   "cell_type": "code",
   "outputs": [],
   "execution_count": null,
   "source": "",
   "id": "3051afb8ef990b30"
  }
 ],
 "metadata": {
  "kernelspec": {
   "display_name": "Python 3",
   "language": "python",
   "name": "python3"
  },
  "language_info": {
   "codemirror_mode": {
    "name": "ipython",
    "version": 2
   },
   "file_extension": ".py",
   "mimetype": "text/x-python",
   "name": "python",
   "nbconvert_exporter": "python",
   "pygments_lexer": "ipython2",
   "version": "2.7.6"
  }
 },
 "nbformat": 4,
 "nbformat_minor": 5
}
