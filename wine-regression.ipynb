{
 "cells": [
  {
   "cell_type": "code",
   "id": "initial_id",
   "metadata": {
    "collapsed": true,
    "ExecuteTime": {
     "end_time": "2025-06-04T12:16:13.352358Z",
     "start_time": "2025-06-04T12:16:11.983690Z"
    }
   },
   "source": [
    "import numpy as np\n",
    "import math\n",
    "import copy\n",
    "from   more_itertools import powerset\n",
    "from operator import itemgetter\n",
    "#import pandas as pd\n",
    "from   ucimlrepo import fetch_ucirepo\n",
    "from   sklearn.model_selection import train_test_split\n"
   ],
   "outputs": [],
   "execution_count": 1
  },
  {
   "metadata": {
    "ExecuteTime": {
     "end_time": "2025-06-04T12:16:15.876471Z",
     "start_time": "2025-06-04T12:16:14.172956Z"
    }
   },
   "cell_type": "code",
   "source": [
    "# Load and split the data\n",
    "wine_quality = fetch_ucirepo(id=186)\n",
    "wine_subset  = wine_quality['data']['original'][wine_quality['data']['original']['color'] == 'white']\n",
    "X = np.array(wine_subset[['fixed_acidity', 'volatile_acidity', 'citric_acid','residual_sugar', 'chlorides', 'free_sulfur_dioxide', 'total_sulfur_dioxide', 'density', 'pH', 'sulphates', 'alcohol']])\n",
    "y = np.array(wine_subset['quality'])\n",
    "\n",
    "X_train, X_test, y_train, y_test = train_test_split(X, y, test_size=0.2, random_state=42)"
   ],
   "id": "5f4b7678e4621772",
   "outputs": [],
   "execution_count": 2
  },
  {
   "metadata": {
    "ExecuteTime": {
     "end_time": "2025-06-04T12:16:16.741150Z",
     "start_time": "2025-06-04T12:16:16.725396Z"
    }
   },
   "cell_type": "code",
   "source": [
    "player_names = ['fixed_acidity', 'volatile_acidity', 'citric_acid','residual_sugar', 'chlorides', 'free_sulfur_dioxide', 'total_sulfur_dioxide', 'density', 'pH', 'sulphates', 'alcohol']\n",
    "N = set([i for i in range(X.shape[1])])"
   ],
   "id": "b53bf2ce812b2e4d",
   "outputs": [],
   "execution_count": 3
  },
  {
   "metadata": {
    "ExecuteTime": {
     "end_time": "2025-06-04T12:16:17.735575Z",
     "start_time": "2025-06-04T12:16:17.723177Z"
    }
   },
   "cell_type": "code",
   "source": [
    "# Standardise the training data\n",
    "X_mu, X_sigma, y_mu, y_sigma = X_train.mean(axis=0), X_train.std(axis=0), y_train.mean(axis=0), y_train.std(axis=0)\n",
    "\n",
    "X_train = (X_train - X_mu) / X_sigma\n",
    "y_train = (y_train - y_mu) / y_sigma\n",
    "\n",
    "X_test = (X_test - X_mu) / X_sigma"
   ],
   "id": "4fd1e349bd0aa4fb",
   "outputs": [],
   "execution_count": 4
  },
  {
   "metadata": {},
   "cell_type": "markdown",
   "source": [
    "$$X^TXw = X^Ty$$ \n",
    "$$w=(X^TX)^{-1}X^Ty$$"
   ],
   "id": "c97209e61f1e9658"
  },
  {
   "metadata": {
    "ExecuteTime": {
     "end_time": "2025-06-04T12:16:20.341867Z",
     "start_time": "2025-06-04T12:16:20.322751Z"
    }
   },
   "cell_type": "code",
   "source": "w = np.matmul(np.matmul(np.linalg.inv(np.matmul(X_train.T, X_train)), X_train.T), y_train)",
   "id": "b44646f1f9a6873f",
   "outputs": [],
   "execution_count": 5
  },
  {
   "metadata": {},
   "cell_type": "markdown",
   "source": [
    "$$R^2  = \\frac{1}{N}w^TX^TXw$$\n",
    "$$R^2_i = \\frac{1}{N}w_i (X^TXw)$$"
   ],
   "id": "70355efafec695b7"
  },
  {
   "metadata": {
    "ExecuteTime": {
     "end_time": "2025-06-04T12:16:22.577213Z",
     "start_time": "2025-06-04T12:16:22.564106Z"
    }
   },
   "cell_type": "code",
   "source": [
    "R2  = np.matmul(w.T,np.matmul(np.matmul(X_train.T, X_train), w))/len(y_train)\n",
    "R2i = np.matmul(np.diag(w),np.matmul(np.matmul(X_train.T, X_train), w))/len(y_train)\n",
    "print(R2)\n",
    "print(R2i) "
   ],
   "id": "5775879f9ef0bb5a",
   "outputs": [
    {
     "name": "stdout",
     "output_type": "stream",
     "text": [
      "0.2843126626414035\n",
      "[-5.15764443e-03  4.48079867e-02  1.16066061e-04 -3.99818409e-02\n",
      "  1.29593436e-04  2.77336079e-03  1.86662385e-03  1.27245440e-01\n",
      "  1.04933860e-02  5.15467153e-03  1.36865019e-01]\n"
     ]
    }
   ],
   "execution_count": 6
  },
  {
   "metadata": {},
   "cell_type": "markdown",
   "source": [
    "$$\\hat{y} = Xw$$\n",
    "$$MSE = \\frac{1}{N}\\sum(y-\\hat{y})^2$$"
   ],
   "id": "fd099a055fd05668"
  },
  {
   "metadata": {
    "ExecuteTime": {
     "end_time": "2025-06-04T12:16:24.842857Z",
     "start_time": "2025-06-04T12:16:24.833897Z"
    }
   },
   "cell_type": "code",
   "source": [
    "yh  = np.matmul(X_test, w)\n",
    "MSE = np.matmul((y_test - yh).T, (y_test - yh)) / len(y_test)"
   ],
   "id": "83e079d06e94c9",
   "outputs": [],
   "execution_count": 7
  },
  {
   "metadata": {
    "ExecuteTime": {
     "end_time": "2025-06-04T12:16:25.861361Z",
     "start_time": "2025-06-04T12:16:25.847947Z"
    }
   },
   "cell_type": "code",
   "source": "w",
   "id": "411ae3f4c90b045",
   "outputs": [
    {
     "data": {
      "text/plain": [
       "array([ 0.04371106, -0.2193717 , -0.00827766,  0.41280525, -0.00065067,\n",
       "        0.09626305, -0.01148575, -0.42336479,  0.10171807,  0.08312901,\n",
       "        0.3170512 ])"
      ]
     },
     "execution_count": 8,
     "metadata": {},
     "output_type": "execute_result"
    }
   ],
   "execution_count": 8
  },
  {
   "metadata": {
    "ExecuteTime": {
     "end_time": "2025-06-04T12:17:18.597799Z",
     "start_time": "2025-06-04T12:17:18.581959Z"
    }
   },
   "cell_type": "code",
   "source": [
    "def predict(X_vector):\n",
    "    y_standard = np.matmul(X_vector, w)\n",
    "    y_actual   = (y_standard * y_sigma) + y_mu\n",
    "    return y_actual\n",
    "\n",
    "#E_f = np.mean(predict(X_test)) # should be same as sampling?\n",
    "E_f = predict(np.mean(X_test, axis=0))\n",
    "\n",
    "def value(X_vector, S, X_sample):\n",
    "    X_local = copy.deepcopy(X_sample)\n",
    "    X_local[:, list(S)] = X_vector[list(S)]\n",
    "    y_actual = predict(X_local)\n",
    "    return np.mean(y_actual) - E_f\n",
    "\n",
    "def sample_v1(X_dist, sample_size):\n",
    "    s_idx    = np.random.randint(low=0, high=len(X_dist), size=sample_size)\n",
    "    return   X_dist[s_idx]\n",
    "\n",
    "def sample_v2(X_dist, sample_size):\n",
    "    return np.array([X_dist[np.random.randint(low=0, high=len(X_dist), size=sample_size),j] for j in N] ).transpose()\n",
    "\n",
    "def sample_v3(X_dist, dummy):\n",
    "    return np.mean(X_dist, axis=0).reshape(1,11)\n",
    "    \n",
    "   \n",
    "def marginal(X_vector, j, S, sample_size):\n",
    "    X_sample = sample_v3(X_test, sample_size)\n",
    "    return value(X_vector, S.union(j), X_sample) - value(X_vector, S, X_sample)\n",
    "\n",
    "def gamma(N,S):\n",
    "    return math.factorial(len(S)) * math.factorial(len(N) - len(S) - 1) / math.factorial(len(N))\n",
    "\n",
    "def phi(X_Vector, j, N, sample_size):\n",
    "    players = N - j\n",
    "    return np.sum([gamma(N, S) * marginal(X_vector, j, set(S), sample_size) for S in powerset(players)])\n"
   ],
   "id": "b89f83267e50795",
   "outputs": [],
   "execution_count": 11
  },
  {
   "metadata": {
    "ExecuteTime": {
     "end_time": "2025-06-04T12:17:20.277190Z",
     "start_time": "2025-06-04T12:17:19.434412Z"
    }
   },
   "cell_type": "code",
   "source": [
    "X_vector = X_test[0]\n",
    "phi_T = E_f\n",
    "phi_i = [phi(X_vector,{player}, N,1000) * y_sigma for player in N]\n",
    "phi_i_sorted = sorted(enumerate(phi_i), key=itemgetter(1))\n",
    "phi_i_sorted.reverse()\n",
    "for player, p_i in phi_i_sorted:\n",
    "    print(player_names[player].ljust(20), round(p_i,3))\n",
    "print('Total phi:    ', round(sum(phi_i),3))\n",
    "print('Total Reward: ', round(E_f + sum(phi_i),3) )\n",
    "print('Expected:     ', round(E_f,3))\n",
    "print('Predicted:    ', round(predict(X_vector),3))\n",
    "print('Delta:        ', round(predict(X_vector) - (E_f + sum(phi_i)),3)  )\n"
   ],
   "id": "633d46a7424fe65",
   "outputs": [
    {
     "name": "stdout",
     "output_type": "stream",
     "text": [
      "residual_sugar       0.293\n",
      "alcohol              0.087\n",
      "free_sulfur_dioxide  0.086\n",
      "sulphates            0.057\n",
      "density              0.017\n",
      "chlorides            -0.0\n",
      "total_sulfur_dioxide -0.002\n",
      "citric_acid          -0.004\n",
      "volatile_acidity     -0.027\n",
      "fixed_acidity        -0.033\n",
      "pH                   -0.05\n",
      "Total phi:     0.424\n",
      "Total Reward:  6.318\n",
      "Expected:      5.893\n",
      "Predicted:     6.372\n",
      "Delta:         0.054\n"
     ]
    }
   ],
   "execution_count": 12
  },
  {
   "metadata": {
    "ExecuteTime": {
     "end_time": "2025-06-04T09:48:11.112693Z",
     "start_time": "2025-06-04T09:48:11.091070Z"
    }
   },
   "cell_type": "code",
   "source": [
    "z= np.mean(X_test, axis=0).reshape(1,11)\n",
    "z\n"
   ],
   "id": "ff560a69e9d62c92",
   "outputs": [
    {
     "data": {
      "text/plain": [
       "array([[-0.06071995, -0.05394598,  0.06096112, -0.05766376,  0.00878483,\n",
       "         0.06399892,  0.04271784, -0.07157771, -0.03416091,  0.00292092,\n",
       "         0.02209133]])"
      ]
     },
     "execution_count": 90,
     "metadata": {},
     "output_type": "execute_result"
    }
   ],
   "execution_count": 90
  },
  {
   "metadata": {
    "ExecuteTime": {
     "end_time": "2025-06-04T09:10:09.026685Z",
     "start_time": "2025-06-04T09:10:09.012152Z"
    }
   },
   "cell_type": "code",
   "source": "np.array([X_test[np.random.randint(low=0, high=len(X_test), size=100),j] for j in N] ).transpose()",
   "id": "3051afb8ef990b30",
   "outputs": [
    {
     "data": {
      "text/plain": [
       "array([[-1.02448031e+00,  2.03383533e-01, -5.23883069e-01, ...,\n",
       "        -5.94636337e-01,  2.02701757e+00, -3.43509781e-02],\n",
       "       [-1.02448031e+00, -1.17466521e+00, -6.07395717e-01, ...,\n",
       "        -5.28042506e-01,  1.93263316e-03,  4.00055080e-01],\n",
       "       [-7.87618831e-01, -9.19126252e-02,  1.44218115e-01, ...,\n",
       "        -1.28479522e-01,  9.70451518e-01,  1.86617554e+00],\n",
       "       ...,\n",
       "       [ 2.17314967e+00,  2.03383533e-01,  9.79344596e-01, ...,\n",
       "        -1.26057464e+00, -3.50256052e-01,  2.11052895e+00],\n",
       "       [-7.70343903e-02, -1.90344678e-01, -7.74421013e-01, ...,\n",
       "        -1.28479522e-01,  6.18262833e-01, -1.06606538e+00],\n",
       "       [-5.50757351e-01, -9.19126252e-02, -5.23883069e-01, ...,\n",
       "         1.53636625e+00,  8.99798045e-02,  7.42505344e-02]])"
      ]
     },
     "execution_count": 38,
     "metadata": {},
     "output_type": "execute_result"
    }
   ],
   "execution_count": 38
  },
  {
   "metadata": {
    "ExecuteTime": {
     "end_time": "2025-06-04T09:12:52.854387Z",
     "start_time": "2025-06-04T09:12:52.844833Z"
    }
   },
   "cell_type": "code",
   "source": "sample_old(X_test,20)",
   "id": "dbf8a367d42b4730",
   "outputs": [
    {
     "data": {
      "text/plain": [
       "array([[ 9.88842271e-01, -4.26965987e-02, -2.73345125e-01,\n",
       "        -1.06072546e+00, -3.08977247e-01, -9.65201063e-01,\n",
       "        -1.49780567e+00, -6.85348457e-01, -1.19398081e+00,\n",
       "         6.18262833e-01,  1.55701671e-01],\n",
       "       [ 2.78257830e-01,  3.01815586e-01,  1.14636989e+00,\n",
       "         1.39127817e+00,  4.71031035e-01,  1.13377087e+00,\n",
       "         1.40265402e+00,  1.23435272e+00, -5.94636337e-01,\n",
       "         1.93263316e-03, -9.84614239e-01],\n",
       "       [-5.50757351e-01,  3.01815586e-01, -5.23883069e-01,\n",
       "         1.84736700e-01,  1.49851154e-01,  7.73947112e-01,\n",
       "         7.36974747e-01, -2.78239415e-01,  5.37458786e-01,\n",
       "        -3.50256052e-01,  4.81506217e-01],\n",
       "       [-7.87618831e-01,  2.03383533e-01, -1.06319829e-01,\n",
       "        -1.00234442e+00,  3.79265355e-01, -4.85436049e-01,\n",
       "         1.06981438e+00, -4.66899703e-01,  7.37240278e-01,\n",
       "        -5.26350395e-01, -3.33005148e-01],\n",
       "       [-4.32326611e-01, -1.61760944e+00, -3.56857773e-01,\n",
       "        -8.75852172e-01, -3.54860087e-01,  2.27321278e+00,\n",
       "         6.65651967e-01, -1.67829734e+00, -4.61448676e-01,\n",
       "        -2.11119948e+00,  1.94762667e+00],\n",
       "       [ 1.22570375e+00, -5.84072890e-01,  3.94756060e-01,\n",
       "         3.01498777e-01, -1.25445886e-01,  6.54005858e-01,\n",
       "         3.32812331e-01, -2.21972312e-01, -4.61448676e-01,\n",
       "        -1.49486928e+00,  8.07310762e-01],\n",
       "       [-6.69188091e-01,  2.03383533e-01,  1.22988254e+00,\n",
       "         1.84736700e-01,  3.33382515e-01, -6.56416622e-02,\n",
       "         2.61489552e-01,  2.14925196e-01, -6.18856911e-02,\n",
       "         3.54121319e-01, -5.77358557e-01],\n",
       "       [ 4.13963498e-02, -6.82504942e-01, -2.28071805e-02,\n",
       "        -9.05042691e-01, -5.38391447e-01,  7.73947112e-01,\n",
       "        -4.75758253e-02, -1.38041267e+00,  4.04271124e-01,\n",
       "        -7.02444738e-01,  1.70327326e+00],\n",
       "       [-7.70343903e-02, -9.77801101e-01, -4.40370421e-01,\n",
       "        -1.04126512e+00, -8.59571328e-01, -1.85582916e-01,\n",
       "        -6.18158059e-01, -1.05273954e+00, -2.61667183e-01,\n",
       "        -3.50256052e-01,  4.00055080e-01],\n",
       "       [ 9.88842271e-01,  6.51942770e-03, -3.56857773e-01,\n",
       "         8.74349682e-02, -2.17211567e-01, -3.65494796e-01,\n",
       "         5.94329188e-01,  3.73797017e-01,  1.66955391e+00,\n",
       "         9.70451518e-01, -7.20060199e-03],\n",
       "       [ 1.81785745e+00,  1.04951481e-01, -3.56857773e-01,\n",
       "        -1.05099529e+00, -6.30157128e-01, -1.86476046e+00,\n",
       "        -1.97329087e+00, -1.08252801e+00, -1.85991912e+00,\n",
       "        -1.49486928e+00,  7.25859626e-01],\n",
       "       [-7.87618831e-01, -1.76525752e+00,  6.45294004e-01,\n",
       "        -1.06072546e+00, -2.63094407e-01, -1.08514232e+00,\n",
       "        -1.47403141e+00, -1.38703233e+00, -3.28261014e-01,\n",
       "         6.18262833e-01,  7.25859626e-01],\n",
       "       [ 5.15119310e-01, -7.80936995e-01,  4.78268708e-01,\n",
       "        -8.07740960e-01,  1.03968314e-01, -6.65347929e-01,\n",
       "        -1.21251455e+00, -1.20168188e+00, -1.66013763e+00,\n",
       "        -1.23072777e+00,  1.21456644e+00],\n",
       "       [ 6.33550050e-01, -1.17466521e+00, -5.23883069e-01,\n",
       "         1.76102475e+00,  1.95733994e-01, -6.05377303e-01,\n",
       "        -7.13500851e-02,  1.43294249e+00, -1.92651295e+00,\n",
       "        -5.26350395e-01, -1.47332106e+00],\n",
       "       [ 4.13963498e-02,  8.92407904e-01, -4.40370421e-01,\n",
       "         1.43019886e+00, -6.76039968e-01, -6.56416622e-02,\n",
       "        -2.38015656e-02,  2.41403833e-01, -5.94636337e-01,\n",
       "        -1.05463342e+00,  8.88761899e-01],\n",
       "       [-3.13895870e-01, -6.82504942e-01, -3.56857773e-01,\n",
       "        -2.14200399e-01, -7.67805648e-01,  4.74093978e-01,\n",
       "        -7.60803618e-01, -9.76613462e-01, -1.72673146e+00,\n",
       "        -5.26350395e-01,  8.07310762e-01],\n",
       "       [-9.06049571e-01, -8.79369048e-01,  3.11243412e-01,\n",
       "        -7.49359921e-01, -2.17211567e-01, -6.65347929e-01,\n",
       "        -9.27223436e-01, -8.40910448e-01, -6.18856911e-02,\n",
       "         8.99798045e-02,  3.18603944e-01],\n",
       "       [ 7.51980790e-01, -9.77801101e-01,  4.78268708e-01,\n",
       "        -8.85582345e-01,  3.79265355e-01, -7.25318556e-01,\n",
       "        -1.11741751e+00,  9.71576067e-03,  5.37458786e-01,\n",
       "        -3.50256052e-01, -1.70102875e-01],\n",
       "       [-3.13895870e-01, -1.90344678e-01, -4.40370421e-01,\n",
       "         5.73943625e-01, -8.13688488e-01, -1.32502482e+00,\n",
       "        -4.04189722e-01, -5.06617658e-01, -1.28479522e-01,\n",
       "        -1.31877494e+00,  1.29601758e+00],\n",
       "       [ 1.59827090e-01, -1.56839342e+00, -3.56857773e-01,\n",
       "         7.49086741e-01, -3.08977247e-01,  3.54152725e-01,\n",
       "        -9.50997696e-01,  5.19429520e-01,  4.70813964e-03,\n",
       "        -9.66586252e-01, -5.77358557e-01]])"
      ]
     },
     "execution_count": 44,
     "metadata": {},
     "output_type": "execute_result"
    }
   ],
   "execution_count": 44
  },
  {
   "metadata": {
    "ExecuteTime": {
     "end_time": "2025-06-04T09:13:04.563602Z",
     "start_time": "2025-06-04T09:13:04.555037Z"
    }
   },
   "cell_type": "code",
   "source": "sample(X_test,20)",
   "id": "48c0a0f68e505ba4",
   "outputs": [],
   "execution_count": 45
  },
  {
   "metadata": {},
   "cell_type": "code",
   "outputs": [],
   "execution_count": null,
   "source": "",
   "id": "2462da6124d790c"
  }
 ],
 "metadata": {
  "kernelspec": {
   "display_name": "Python 3",
   "language": "python",
   "name": "python3"
  },
  "language_info": {
   "codemirror_mode": {
    "name": "ipython",
    "version": 2
   },
   "file_extension": ".py",
   "mimetype": "text/x-python",
   "name": "python",
   "nbconvert_exporter": "python",
   "pygments_lexer": "ipython2",
   "version": "2.7.6"
  }
 },
 "nbformat": 4,
 "nbformat_minor": 5
}
