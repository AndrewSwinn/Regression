{
 "cells": [
  {
   "cell_type": "code",
   "id": "initial_id",
   "metadata": {
    "collapsed": true,
    "ExecuteTime": {
     "end_time": "2025-06-09T09:40:12.887902Z",
     "start_time": "2025-06-09T09:40:12.869276Z"
    }
   },
   "source": [
    "import numpy as np\n",
    "import math\n",
    "import copy\n",
    "from   more_itertools import powerset\n",
    "from operator import itemgetter\n",
    "#import pandas as pd\n",
    "from   ucimlrepo import fetch_ucirepo\n",
    "from   sklearn.model_selection import train_test_split\n"
   ],
   "outputs": [],
   "execution_count": 3
  },
  {
   "metadata": {
    "ExecuteTime": {
     "end_time": "2025-06-09T09:40:22.832100Z",
     "start_time": "2025-06-09T09:40:12.936664Z"
    }
   },
   "cell_type": "code",
   "source": [
    "# Load and split the data\n",
    "wine_quality = fetch_ucirepo(id=186)\n",
    "wine_subset  = wine_quality['data']['original'][wine_quality['data']['original']['color'] == 'white']\n",
    "X = np.array(wine_subset[['fixed_acidity', 'volatile_acidity', 'citric_acid','residual_sugar', 'chlorides', 'free_sulfur_dioxide', 'total_sulfur_dioxide', 'density', 'pH', 'sulphates', 'alcohol']])\n",
    "y = np.array(wine_subset['quality'])\n",
    "\n",
    "X_train, X_test, y_train, y_test = train_test_split(X, y, test_size=0.2, random_state=42)"
   ],
   "id": "5f4b7678e4621772",
   "outputs": [],
   "execution_count": 4
  },
  {
   "metadata": {
    "ExecuteTime": {
     "end_time": "2025-06-09T09:40:22.847336Z",
     "start_time": "2025-06-09T09:40:22.841980Z"
    }
   },
   "cell_type": "code",
   "source": [
    "player_names = ['fixed_acidity', 'volatile_acidity', 'citric_acid','residual_sugar', 'chlorides', 'free_sulfur_dioxide', 'total_sulfur_dioxide', 'density', 'pH', 'sulphates', 'alcohol']\n",
    "N = set([i for i in range(X.shape[1])])"
   ],
   "id": "b53bf2ce812b2e4d",
   "outputs": [],
   "execution_count": 5
  },
  {
   "metadata": {
    "ExecuteTime": {
     "end_time": "2025-06-09T09:40:22.954549Z",
     "start_time": "2025-06-09T09:40:22.946623Z"
    }
   },
   "cell_type": "code",
   "source": [
    "# Standardise the training data\n",
    "X_mu, X_sigma, y_mu, y_sigma = X_train.mean(axis=0), X_train.std(axis=0), y_train.mean(axis=0), y_train.std(axis=0)\n",
    "\n",
    "X_train = (X_train - X_mu) / X_sigma\n",
    "y_train = (y_train - y_mu) / y_sigma\n",
    "\n",
    "# Standardise the test data\n",
    "X_test = (X_test - X_mu)/X_sigma"
   ],
   "id": "4fd1e349bd0aa4fb",
   "outputs": [],
   "execution_count": 6
  },
  {
   "metadata": {},
   "cell_type": "markdown",
   "source": [
    "$$X^TXw = X^Ty$$ \n",
    "$$w=(X^TX)^{-1}X^Ty$$"
   ],
   "id": "c97209e61f1e9658"
  },
  {
   "metadata": {
    "ExecuteTime": {
     "end_time": "2025-06-09T09:40:22.992570Z",
     "start_time": "2025-06-09T09:40:22.976390Z"
    }
   },
   "cell_type": "code",
   "source": "w = np.matmul(np.matmul(np.linalg.inv(np.matmul(X_train.T, X_train)), X_train.T), y_train)",
   "id": "b44646f1f9a6873f",
   "outputs": [],
   "execution_count": 7
  },
  {
   "metadata": {},
   "cell_type": "markdown",
   "source": [
    "$$R^2  = \\frac{1}{N}w^TX^TXw$$\n",
    "$$R^2_i = \\frac{1}{N}w_i (X^TXw)$$"
   ],
   "id": "70355efafec695b7"
  },
  {
   "metadata": {
    "ExecuteTime": {
     "end_time": "2025-06-09T09:40:23.025892Z",
     "start_time": "2025-06-09T09:40:23.016539Z"
    }
   },
   "cell_type": "code",
   "source": [
    "R2  = np.matmul(w.T,np.matmul(np.matmul(X_train.T, X_train), w))/len(y_train)\n",
    "R2i = np.matmul(np.diag(w),np.matmul(np.matmul(X_train.T, X_train), w))/len(y_train)\n",
    "print(R2)\n",
    "print(R2i) "
   ],
   "id": "5775879f9ef0bb5a",
   "outputs": [
    {
     "name": "stdout",
     "output_type": "stream",
     "text": [
      "0.2843126626414035\n",
      "[-5.15764443e-03  4.48079867e-02  1.16066061e-04 -3.99818409e-02\n",
      "  1.29593436e-04  2.77336079e-03  1.86662385e-03  1.27245440e-01\n",
      "  1.04933860e-02  5.15467153e-03  1.36865019e-01]\n"
     ]
    }
   ],
   "execution_count": 8
  },
  {
   "metadata": {},
   "cell_type": "markdown",
   "source": [
    "$$\\hat{y} = Xw$$\n",
    "$$MSE = \\frac{1}{N}\\sum(y-\\hat{y})^2$$"
   ],
   "id": "fd099a055fd05668"
  },
  {
   "metadata": {
    "ExecuteTime": {
     "end_time": "2025-06-09T09:40:23.068484Z",
     "start_time": "2025-06-09T09:40:23.058954Z"
    }
   },
   "cell_type": "code",
   "source": [
    "yh  = np.matmul(X_test, w)\n",
    "MSE = np.matmul((y_test - yh).T, (y_test - yh)) / len(y_test)"
   ],
   "id": "83e079d06e94c9",
   "outputs": [],
   "execution_count": 9
  },
  {
   "metadata": {
    "ExecuteTime": {
     "end_time": "2025-06-09T09:40:23.112966Z",
     "start_time": "2025-06-09T09:40:23.104139Z"
    }
   },
   "cell_type": "code",
   "source": "w",
   "id": "411ae3f4c90b045",
   "outputs": [
    {
     "data": {
      "text/plain": [
       "array([ 0.04371106, -0.2193717 , -0.00827766,  0.41280525, -0.00065067,\n",
       "        0.09626305, -0.01148575, -0.42336479,  0.10171807,  0.08312901,\n",
       "        0.3170512 ])"
      ]
     },
     "execution_count": 10,
     "metadata": {},
     "output_type": "execute_result"
    }
   ],
   "execution_count": 10
  },
  {
   "metadata": {},
   "cell_type": "markdown",
   "source": [
    "Three approaches to sampling have been implemented:\n",
    "\n",
    "1.  sample_v1 samples whole vectors\n",
    "2.  sample v2 samples individual fields in turn to produce a set of vectors\n",
    "3.  sample v3 exploits the fact that $\\mathbb{E}[f(x)] = f(\\mathbb{E}[x])$ for linear models"
   ],
   "id": "d1b75436d19688da"
  },
  {
   "metadata": {
    "ExecuteTime": {
     "end_time": "2025-06-09T09:40:23.154837Z",
     "start_time": "2025-06-09T09:40:23.149615Z"
    }
   },
   "cell_type": "code",
   "source": "",
   "id": "30cabee6715c0bf5",
   "outputs": [],
   "execution_count": null
  },
  {
   "metadata": {
    "ExecuteTime": {
     "end_time": "2025-06-09T09:40:23.193520Z",
     "start_time": "2025-06-09T09:40:23.184672Z"
    }
   },
   "cell_type": "code",
   "source": [
    "def predict(X_vector):\n",
    "    y_standard = np.matmul(X_vector, w)\n",
    "    y_actual   = (y_standard * y_sigma) + y_mu\n",
    "    return y_actual\n",
    "\n",
    "#E_f = np.mean(predict(X_test)) # should be same as sampling?\n",
    "E_f = predict(np.mean(X_test, axis=0))\n",
    "\n",
    "\n",
    "def value(X_vector, S, X_sample):\n",
    "    X_local = copy.deepcopy(X_sample)\n",
    "    X_local[:, list(S)] = X_vector[list(S)]\n",
    "    y_actual = predict(X_local)\n",
    "    return np.mean(y_actual) - E_f\n",
    "\n",
    "def sample_v1(X_dist, sample_size):\n",
    "    s_idx    = np.random.randint(low=0, high=len(X_dist), size=sample_size)\n",
    "    return   X_dist[s_idx]\n",
    "\n",
    "def sample_v2(X_dist, sample_size):\n",
    "    return np.array([X_dist[np.random.randint(low=0, high=len(X_dist), size=sample_size),j] for j in N] ).transpose()\n",
    "\n",
    "def sample_v3(X_dist, dummy):\n",
    "    return np.mean(X_dist, axis=0).reshape(1,11)\n",
    "    \n",
    "def marginal(X_vector, j, S, sample_size):\n",
    "    X_sample = sample_v3(X_test, sample_size)\n",
    "    return value(X_vector, S.union(j), X_sample) - value(X_vector, S, X_sample)\n",
    "\n",
    "def gamma(N,S):\n",
    "    return math.factorial(len(S)) * math.factorial(len(N) - len(S) - 1) / math.factorial(len(N))\n",
    "\n",
    "def phi(X_Vector, j, N, sample_size):\n",
    "    players = N - j\n",
    "    return np.sum([gamma(N, S) * marginal(X_vector, j, set(S), sample_size) for S in powerset(players)])\n"
   ],
   "id": "b89f83267e50795",
   "outputs": [],
   "execution_count": 11
  },
  {
   "metadata": {
    "ExecuteTime": {
     "end_time": "2025-06-09T09:40:23.838907Z",
     "start_time": "2025-06-09T09:40:23.226180Z"
    }
   },
   "cell_type": "code",
   "source": [
    "X_vector = X_test[1]\n",
    "phi_T = E_f\n",
    "phi_i = [phi(X_vector,{player}, N,1000)  for player in N]\n",
    "phi_i_sorted = sorted(enumerate(phi_i), key=itemgetter(1))\n",
    "phi_i_sorted.reverse()\n",
    "for player, p_i in phi_i_sorted:\n",
    "    print(player_names[player].ljust(20), round(p_i,3))\n",
    "print('Total phi:    ', round(sum(phi_i),3))\n",
    "print('Total Reward: ', round(E_f + sum(phi_i),3) )\n",
    "print('Expected:     ', round(E_f,3))\n",
    "print('Predicted:    ', round(predict(X_vector),3))\n",
    "print('Delta:        ', round(predict(X_vector) - (E_f + sum(phi_i)),3)  )\n"
   ],
   "id": "633d46a7424fe65",
   "outputs": [
    {
     "name": "stdout",
     "output_type": "stream",
     "text": [
      "density              0.658\n",
      "alcohol              0.61\n",
      "sulphates            0.026\n",
      "citric_acid          0.011\n",
      "pH                   0.01\n",
      "total_sulfur_dioxide 0.003\n",
      "chlorides            0.0\n",
      "free_sulfur_dioxide  -0.011\n",
      "fixed_acidity        -0.065\n",
      "residual_sugar       -0.246\n",
      "volatile_acidity     -0.49\n",
      "Total phi:     0.505\n",
      "Total Reward:  6.398\n",
      "Expected:      5.893\n",
      "Predicted:     6.398\n",
      "Delta:         0.0\n"
     ]
    }
   ],
   "execution_count": 12
  },
  {
   "metadata": {
    "ExecuteTime": {
     "end_time": "2025-06-09T09:40:23.869623Z",
     "start_time": "2025-06-09T09:40:23.861705Z"
    }
   },
   "cell_type": "code",
   "source": "X",
   "id": "2bb6df40e94016b3",
   "outputs": [
    {
     "data": {
      "text/plain": [
       "array([[ 7.  ,  0.27,  0.36, ...,  3.  ,  0.45,  8.8 ],\n",
       "       [ 6.3 ,  0.3 ,  0.34, ...,  3.3 ,  0.49,  9.5 ],\n",
       "       [ 8.1 ,  0.28,  0.4 , ...,  3.26,  0.44, 10.1 ],\n",
       "       ...,\n",
       "       [ 6.5 ,  0.24,  0.19, ...,  2.99,  0.46,  9.4 ],\n",
       "       [ 5.5 ,  0.29,  0.3 , ...,  3.34,  0.38, 12.8 ],\n",
       "       [ 6.  ,  0.21,  0.38, ...,  3.26,  0.32, 11.8 ]])"
      ]
     },
     "execution_count": 13,
     "metadata": {},
     "output_type": "execute_result"
    }
   ],
   "execution_count": 13
  },
  {
   "metadata": {
    "ExecuteTime": {
     "end_time": "2025-06-09T09:40:23.952940Z",
     "start_time": "2025-06-09T09:40:23.947380Z"
    }
   },
   "cell_type": "code",
   "source": "",
   "id": "9a7467ef360523e5",
   "outputs": [],
   "execution_count": null
  }
 ],
 "metadata": {
  "kernelspec": {
   "display_name": "Python 3",
   "language": "python",
   "name": "python3"
  },
  "language_info": {
   "codemirror_mode": {
    "name": "ipython",
    "version": 2
   },
   "file_extension": ".py",
   "mimetype": "text/x-python",
   "name": "python",
   "nbconvert_exporter": "python",
   "pygments_lexer": "ipython2",
   "version": "2.7.6"
  }
 },
 "nbformat": 4,
 "nbformat_minor": 5
}
