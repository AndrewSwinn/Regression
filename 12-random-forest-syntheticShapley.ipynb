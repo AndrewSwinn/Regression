{
 "cells": [
  {
   "cell_type": "code",
   "id": "initial_id",
   "metadata": {
    "collapsed": true,
    "ExecuteTime": {
     "end_time": "2025-09-23T16:28:18.908045Z",
     "start_time": "2025-09-23T16:28:18.077333Z"
    }
   },
   "source": [
    "import warnings\n",
    "warnings.filterwarnings('ignore')\n",
    "import math\n",
    "import pandas as pd\n",
    "import shap\n",
    "import matplotlib.pyplot as plt\n",
    "import seaborn as sns\n",
    "import numpy as np\n",
    "import scipy.cluster.hierarchy as sch\n",
    "from seaborn.matrix import dendrogram\n",
    "from sklearn.ensemble import RandomForestRegressor\n",
    "from sklearn.model_selection import train_test_split\n",
    "from sklearn.metrics import mean_absolute_error\n",
    "from itertools import chain,  combinations\n",
    "\n",
    "def powerset(iterable):\n",
    "    s = list(iterable)\n",
    "    return chain.from_iterable(combinations(s, r) for r in range(len(s)+1))\n",
    "\n",
    "wine = pd.read_csv('wine.csv')\n"
   ],
   "outputs": [],
   "execution_count": 1
  },
  {
   "metadata": {
    "ExecuteTime": {
     "end_time": "2025-09-23T16:28:21.206614Z",
     "start_time": "2025-09-23T16:28:21.200957Z"
    }
   },
   "cell_type": "code",
   "source": [
    "y = wine['quality']\n",
    "X = wine.drop(columns=['quality'])\n",
    "\n",
    "#y = (y - y.mean())/y.std()\n",
    "#X = (X - X.mean())/X.std()\n",
    "\n",
    "X_train, X_test, y_train, y_test = train_test_split(X, y, test_size=0.2, random_state=42)"
   ],
   "id": "a20d76f88b5f4d28",
   "outputs": [],
   "execution_count": 2
  },
  {
   "metadata": {
    "ExecuteTime": {
     "end_time": "2025-09-23T16:28:25.617250Z",
     "start_time": "2025-09-23T16:28:22.923318Z"
    }
   },
   "cell_type": "code",
   "source": [
    "model = RandomForestRegressor(random_state=42)\n",
    "model.fit(X_train, y_train)\n",
    "y_pred = model.predict(X_test)\n",
    "mae    = mean_absolute_error(y_test, y_pred)\n",
    "print('MAE', round(mae,2))\n"
   ],
   "id": "c419c08008b54394",
   "outputs": [
    {
     "name": "stdout",
     "output_type": "stream",
     "text": [
      "MAE 0.42\n"
     ]
    }
   ],
   "execution_count": 3
  },
  {
   "metadata": {
    "ExecuteTime": {
     "end_time": "2025-09-23T14:34:59.701805Z",
     "start_time": "2025-09-23T14:34:59.644274Z"
    }
   },
   "cell_type": "code",
   "source": [
    "synth = np.random.standard_normal(size=(1000,11))\n",
    "synth = np.array(X_train)\n",
    "ground = model.predict(synth)\n"
   ],
   "id": "6cd9f9d2d6a6b774",
   "outputs": [],
   "execution_count": 13
  },
  {
   "metadata": {
    "jupyter": {
     "is_executing": true
    },
    "ExecuteTime": {
     "start_time": "2025-09-23T16:29:58.121884Z"
    }
   },
   "cell_type": "code",
   "source": [
    "results = []\n",
    "features = {i for i in range(11)}\n",
    "for coalition in powerset(features):\n",
    "    if len(coalition) >0:\n",
    "        #X_train, X_test, y_train, y_test = train_test_split(synth[:, list(coalition)], ground, test_size=0.2, random_state=42)\n",
    "        test_model = RandomForestRegressor(random_state=42)\n",
    "        test_model.fit(np.array(X_train)[:,list(coalition)], y_train)\n",
    "        y_pred = test_model.predict(np.array(X_test)[:,list(coalition)])\n",
    "        mae = mean_absolute_error(y_test, y_pred)\n",
    "        print(coalition, 'MAE', round(mae,2))\n",
    "        results.append([coalition, mae])\n",
    "\n",
    "\n"
   ],
   "id": "3368a315c7611c39",
   "outputs": [
    {
     "name": "stdout",
     "output_type": "stream",
     "text": [
      "(0,) MAE 0.67\n",
      "(1,) MAE 0.68\n",
      "(2,) MAE 0.66\n",
      "(3,) MAE 0.67\n",
      "(4,) MAE 0.66\n",
      "(5,) MAE 0.65\n",
      "(6,) MAE 0.66\n",
      "(7,) MAE 0.65\n",
      "(8,) MAE 0.68\n",
      "(9,) MAE 0.68\n",
      "(10,) MAE 0.63\n",
      "(0, 1) MAE 0.69\n",
      "(0, 2) MAE 0.67\n",
      "(0, 3) MAE 0.64\n",
      "(0, 4) MAE 0.68\n",
      "(0, 5) MAE 0.7\n",
      "(0, 6) MAE 0.65\n",
      "(0, 7) MAE 0.57\n",
      "(0, 8) MAE 0.7\n",
      "(0, 9) MAE 0.68\n",
      "(0, 10) MAE 0.61\n",
      "(1, 2) MAE 0.66\n",
      "(1, 3) MAE 0.62\n",
      "(1, 4) MAE 0.64\n",
      "(1, 5) MAE 0.65\n",
      "(1, 6) MAE 0.64\n",
      "(1, 7) MAE 0.56\n",
      "(1, 8) MAE 0.67\n",
      "(1, 9) MAE 0.66\n",
      "(1, 10) MAE 0.57\n",
      "(2, 3) MAE 0.63\n",
      "(2, 4) MAE 0.64\n",
      "(2, 5) MAE 0.66\n",
      "(2, 6) MAE 0.62\n",
      "(2, 7) MAE 0.56\n",
      "(2, 8) MAE 0.63\n",
      "(2, 9) MAE 0.66\n",
      "(2, 10) MAE 0.61\n"
     ]
    }
   ],
   "execution_count": null
  },
  {
   "metadata": {
    "ExecuteTime": {
     "end_time": "2025-09-23T15:06:09.321302Z",
     "start_time": "2025-09-23T15:06:07.440119Z"
    }
   },
   "cell_type": "code",
   "source": [
    "def get_mae(S):\n",
    "    if len(S) == 0: return 0\n",
    "    for coalition, mae in results:\n",
    "        if S == set(coalition):\n",
    "            return 1 - mae\n",
    "\n",
    "phi = 0\n",
    "for i in features:\n",
    "    phi_i = 0\n",
    "    features_minus = features - {i}\n",
    "    for S in powerset(features_minus):\n",
    "        SS = set(S)\n",
    "        gamma = math.factorial(len(SS)) * math.factorial(len(features) - len(SS) - 1) / math.factorial(len(features))\n",
    "        phi_i += gamma * (get_mae(SS.union({i}))- get_mae(SS))\n",
    "    print(i, ':' +  X.columns[i] + ':', round(phi_i,3))\n",
    "    phi += phi_i\n",
    "print(' :Total Reward: ', round(phi,3))"
   ],
   "id": "4bbc1eda7dc8fe3d",
   "outputs": [
    {
     "name": "stdout",
     "output_type": "stream",
     "text": [
      "0 :fixed acidity: 0.049\n",
      "1 :volatile acidity: 0.073\n",
      "2 :citric acid: 0.059\n",
      "3 :residual sugar: 0.062\n",
      "4 :chlorides: 0.058\n",
      "5 :free sulfur dioxide: 0.066\n",
      "6 :total sulfur dioxide: 0.062\n",
      "7 :density: 0.083\n",
      "8 :pH: 0.053\n",
      "9 :sulphates: 0.052\n",
      "10 :alcohol: 0.096\n",
      " :Total Reward:  0.714\n"
     ]
    }
   ],
   "execution_count": 15
  },
  {
   "metadata": {
    "ExecuteTime": {
     "end_time": "2025-09-23T15:06:09.337500Z",
     "start_time": "2025-09-23T15:06:09.335204Z"
    }
   },
   "cell_type": "code",
   "source": [
    "y2 = wine['quality']\n",
    "X2 = wine.drop(columns=['quality'])"
   ],
   "id": "240703c6956b56fb",
   "outputs": [],
   "execution_count": 16
  },
  {
   "metadata": {
    "ExecuteTime": {
     "end_time": "2025-09-23T15:06:09.382904Z",
     "start_time": "2025-09-23T15:06:09.380609Z"
    }
   },
   "cell_type": "code",
   "source": "",
   "id": "20aa45aef95f581c",
   "outputs": [],
   "execution_count": null
  }
 ],
 "metadata": {
  "kernelspec": {
   "display_name": "Python 3",
   "language": "python",
   "name": "python3"
  },
  "language_info": {
   "codemirror_mode": {
    "name": "ipython",
    "version": 2
   },
   "file_extension": ".py",
   "mimetype": "text/x-python",
   "name": "python",
   "nbconvert_exporter": "python",
   "pygments_lexer": "ipython2",
   "version": "2.7.6"
  }
 },
 "nbformat": 4,
 "nbformat_minor": 5
}
