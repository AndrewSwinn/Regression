{
 "cells": [
  {
   "cell_type": "code",
   "id": "initial_id",
   "metadata": {
    "collapsed": true,
    "ExecuteTime": {
     "end_time": "2025-07-21T16:27:14.905980Z",
     "start_time": "2025-07-21T16:27:14.002380Z"
    }
   },
   "source": [
    "import numpy as np\n",
    "from src.shapley_utils import dataset, regression_model, shapley"
   ],
   "outputs": [],
   "execution_count": 1
  },
  {
   "metadata": {
    "ExecuteTime": {
     "end_time": "2025-07-21T16:27:17.636190Z",
     "start_time": "2025-07-21T16:27:16.414313Z"
    }
   },
   "cell_type": "code",
   "source": [
    "R2   = []\n",
    "SHAP = []\n",
    "for test in range(10):\n",
    "    data        = dataset(dimensions=6, samples=10000)\n",
    "    players     = data.features\n",
    "    model       = regression_model((data.X_train, data.y_train))\n",
    "    explainer   = shapley(model, data.training(),  players)\n",
    "    R2.append(explainer.regression_coeff())\n",
    "    SHAP.append(explainer.shap_add(data.X_test))\n",
    "R2 = np.array(R2)\n",
    "SHAP = np.array(SHAP)\n"
   ],
   "id": "afea9aac8b5a6e19",
   "outputs": [],
   "execution_count": 2
  },
  {
   "metadata": {
    "ExecuteTime": {
     "end_time": "2025-07-21T16:27:20.180060Z",
     "start_time": "2025-07-21T16:27:20.173924Z"
    }
   },
   "cell_type": "code",
   "source": "R2.shape",
   "id": "caa066ca9d07b6d",
   "outputs": [
    {
     "data": {
      "text/plain": [
       "(10, 5)"
      ]
     },
     "execution_count": 3,
     "metadata": {},
     "output_type": "execute_result"
    }
   ],
   "execution_count": 3
  },
  {
   "metadata": {
    "ExecuteTime": {
     "end_time": "2025-07-21T16:27:20.980890Z",
     "start_time": "2025-07-21T16:27:20.972974Z"
    }
   },
   "cell_type": "code",
   "source": "SHAP.shape",
   "id": "39e506d4bf0c150a",
   "outputs": [
    {
     "data": {
      "text/plain": [
       "(10, 2000, 5)"
      ]
     },
     "execution_count": 4,
     "metadata": {},
     "output_type": "execute_result"
    }
   ],
   "execution_count": 4
  },
  {
   "metadata": {},
   "cell_type": "code",
   "outputs": [],
   "execution_count": null,
   "source": "",
   "id": "1f871b0845312060"
  }
 ],
 "metadata": {
  "kernelspec": {
   "display_name": "Python 3",
   "language": "python",
   "name": "python3"
  },
  "language_info": {
   "codemirror_mode": {
    "name": "ipython",
    "version": 2
   },
   "file_extension": ".py",
   "mimetype": "text/x-python",
   "name": "python",
   "nbconvert_exporter": "python",
   "pygments_lexer": "ipython2",
   "version": "2.7.6"
  }
 },
 "nbformat": 4,
 "nbformat_minor": 5
}
