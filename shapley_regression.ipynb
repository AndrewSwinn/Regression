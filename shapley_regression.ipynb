{
 "cells": [
  {
   "cell_type": "code",
   "id": "initial_id",
   "metadata": {
    "collapsed": true,
    "ExecuteTime": {
     "end_time": "2025-07-23T12:05:21.849609Z",
     "start_time": "2025-07-23T12:05:20.250798Z"
    }
   },
   "source": [
    "import numpy as np\n",
    "from src.shapley_utils import dataset, regression_model, shapley"
   ],
   "outputs": [],
   "execution_count": 1
  },
  {
   "metadata": {
    "ExecuteTime": {
     "end_time": "2025-07-23T12:06:50.658834Z",
     "start_time": "2025-07-23T12:05:21.942516Z"
    }
   },
   "cell_type": "code",
   "source": [
    "tests, dimensions = 100, 9\n",
    "R2   = []\n",
    "SHAP = []\n",
    "for test in range(tests):\n",
    "    data        = dataset(dimensions=dimensions, samples=10000)\n",
    "    players     = data.features\n",
    "    model       = regression_model((data.X_train, data.y_train))\n",
    "    explainer   = shapley(model, data.training(),  players)\n",
    "    R2.append(explainer.regression_coeff())\n",
    "    SHAP.append(explainer.shap_add(data.X_test))\n",
    "R2 = np.array(R2)\n",
    "SHAP = np.array(SHAP)\n"
   ],
   "id": "afea9aac8b5a6e19",
   "outputs": [
    {
     "ename": "KeyboardInterrupt",
     "evalue": "",
     "output_type": "error",
     "traceback": [
      "\u001B[1;31m---------------------------------------------------------------------------\u001B[0m",
      "\u001B[1;31mKeyboardInterrupt\u001B[0m                         Traceback (most recent call last)",
      "Cell \u001B[1;32mIn[2], line 5\u001B[0m\n\u001B[0;32m      3\u001B[0m SHAP \u001B[38;5;241m=\u001B[39m []\n\u001B[0;32m      4\u001B[0m \u001B[38;5;28;01mfor\u001B[39;00m test \u001B[38;5;129;01min\u001B[39;00m \u001B[38;5;28mrange\u001B[39m(tests):\n\u001B[1;32m----> 5\u001B[0m     data        \u001B[38;5;241m=\u001B[39m dataset(dimensions\u001B[38;5;241m=\u001B[39mdimensions, samples\u001B[38;5;241m=\u001B[39m\u001B[38;5;241m10000\u001B[39m)\n\u001B[0;32m      6\u001B[0m     players     \u001B[38;5;241m=\u001B[39m data\u001B[38;5;241m.\u001B[39mfeatures\n\u001B[0;32m      7\u001B[0m     model       \u001B[38;5;241m=\u001B[39m regression_model((data\u001B[38;5;241m.\u001B[39mX_train, data\u001B[38;5;241m.\u001B[39my_train))\n",
      "File \u001B[1;32m~\\PycharmProjects\\Regression\\src\\shapley_utils.py:30\u001B[0m, in \u001B[0;36mdataset.__init__\u001B[1;34m(self, dimensions, samples)\u001B[0m\n\u001B[0;32m     28\u001B[0m \u001B[38;5;28mself\u001B[39m\u001B[38;5;241m.\u001B[39mdimensions \u001B[38;5;241m=\u001B[39m dimensions\n\u001B[0;32m     29\u001B[0m \u001B[38;5;28mself\u001B[39m\u001B[38;5;241m.\u001B[39msamples \u001B[38;5;241m=\u001B[39m samples\n\u001B[1;32m---> 30\u001B[0m \u001B[38;5;28mself\u001B[39m\u001B[38;5;241m.\u001B[39mcorr \u001B[38;5;241m=\u001B[39m \u001B[38;5;28mself\u001B[39m\u001B[38;5;241m.\u001B[39mcorrelation()\n\u001B[0;32m     31\u001B[0m \u001B[38;5;28mself\u001B[39m\u001B[38;5;241m.\u001B[39mdata \u001B[38;5;241m=\u001B[39m np\u001B[38;5;241m.\u001B[39mrandom\u001B[38;5;241m.\u001B[39mmultivariate_normal(mean\u001B[38;5;241m=\u001B[39mnp\u001B[38;5;241m.\u001B[39mzeros(\u001B[38;5;28mself\u001B[39m\u001B[38;5;241m.\u001B[39mdimensions), cov\u001B[38;5;241m=\u001B[39m\u001B[38;5;28mself\u001B[39m\u001B[38;5;241m.\u001B[39mcorr, size\u001B[38;5;241m=\u001B[39msamples)\n\u001B[0;32m     32\u001B[0m \u001B[38;5;28mself\u001B[39m\u001B[38;5;241m.\u001B[39mX, \u001B[38;5;28mself\u001B[39m\u001B[38;5;241m.\u001B[39my \u001B[38;5;241m=\u001B[39m \u001B[38;5;28mself\u001B[39m\u001B[38;5;241m.\u001B[39mdata[:,:\u001B[38;5;241m-\u001B[39m\u001B[38;5;241m1\u001B[39m], \u001B[38;5;28mself\u001B[39m\u001B[38;5;241m.\u001B[39mdata[:,\u001B[38;5;241m-\u001B[39m\u001B[38;5;241m1\u001B[39m]\n",
      "File \u001B[1;32m~\\PycharmProjects\\Regression\\src\\shapley_utils.py:19\u001B[0m, in \u001B[0;36mdataset.correlation\u001B[1;34m(self)\u001B[0m\n\u001B[0;32m     17\u001B[0m         \u001B[38;5;28;01melse\u001B[39;00m:\n\u001B[0;32m     18\u001B[0m             corr[i,j] \u001B[38;5;241m=\u001B[39m np\u001B[38;5;241m.\u001B[39mrandom\u001B[38;5;241m.\u001B[39mrand()\n\u001B[1;32m---> 19\u001B[0m             corr[j,i] \u001B[38;5;241m=\u001B[39m corr[i,j]\n\u001B[0;32m     20\u001B[0m \u001B[38;5;28;01mtry\u001B[39;00m:\n\u001B[0;32m     21\u001B[0m     test \u001B[38;5;241m=\u001B[39m np\u001B[38;5;241m.\u001B[39mlinalg\u001B[38;5;241m.\u001B[39mcholesky(corr)\n",
      "\u001B[1;31mKeyboardInterrupt\u001B[0m: "
     ]
    }
   ],
   "execution_count": 2
  },
  {
   "metadata": {
    "ExecuteTime": {
     "end_time": "2025-07-23T12:06:50.679452600Z",
     "start_time": "2025-07-23T12:04:33.237936Z"
    }
   },
   "cell_type": "code",
   "source": [
    "R2_norm_shape = list(R2.shape[:-1])\n",
    "R2_norm_shape.append(1)\n",
    "R2_normalised = R2 / np.sum(R2, axis=-1).reshape(R2_norm_shape)\n"
   ],
   "id": "caa066ca9d07b6d",
   "outputs": [],
   "execution_count": 3
  },
  {
   "metadata": {
    "ExecuteTime": {
     "end_time": "2025-07-23T12:06:50.734800100Z",
     "start_time": "2025-07-23T12:04:33.266667Z"
    }
   },
   "cell_type": "code",
   "source": [
    "SHAP_norm_shape = list(SHAP.shape[:-1])\n",
    "SHAP_norm_shape.append(1)\n",
    "SHAP_normalised = abs(SHAP) / np.sum(abs(SHAP), axis=-1).reshape(SHAP_norm_shape)\n",
    "SHAP_mean = np.mean(SHAP_normalised, axis=1)"
   ],
   "id": "39e506d4bf0c150a",
   "outputs": [],
   "execution_count": 4
  },
  {
   "metadata": {
    "ExecuteTime": {
     "end_time": "2025-07-23T12:06:50.734800100Z",
     "start_time": "2025-07-23T12:04:33.319456Z"
    }
   },
   "cell_type": "code",
   "source": [
    "x1 = R2_normalised.ravel()\n",
    "x2 = SHAP_mean.ravel()"
   ],
   "id": "1f871b0845312060",
   "outputs": [],
   "execution_count": 5
  },
  {
   "metadata": {
    "ExecuteTime": {
     "end_time": "2025-07-23T12:06:50.749330300Z",
     "start_time": "2025-07-23T12:04:33.367415Z"
    }
   },
   "cell_type": "code",
   "source": [
    "x1 = (x1 - np.mean(x1, axis=0)) / np.std(x1, axis=0)\n",
    "x2 = (x2 - np.mean(x2, axis=0)) / np.std(x2, axis=0)"
   ],
   "id": "346da4cf6e57e4b4",
   "outputs": [],
   "execution_count": 6
  },
  {
   "metadata": {
    "ExecuteTime": {
     "end_time": "2025-07-23T12:06:50.767489300Z",
     "start_time": "2025-07-23T12:04:33.408986Z"
    }
   },
   "cell_type": "code",
   "source": "np.matmul(x1.T, x2)/(tests * (dimensions -1))",
   "id": "ada10cc65410a4bb",
   "outputs": [
    {
     "data": {
      "text/plain": [
       "0.6569278132025631"
      ]
     },
     "execution_count": 7,
     "metadata": {},
     "output_type": "execute_result"
    }
   ],
   "execution_count": 7
  },
  {
   "metadata": {
    "ExecuteTime": {
     "end_time": "2025-07-23T12:06:50.772519100Z",
     "start_time": "2025-07-23T12:04:33.523826Z"
    }
   },
   "cell_type": "code",
   "source": "",
   "id": "2d5fbcdd0b545b3c",
   "outputs": [],
   "execution_count": null
  }
 ],
 "metadata": {
  "kernelspec": {
   "display_name": "Python 3",
   "language": "python",
   "name": "python3"
  },
  "language_info": {
   "codemirror_mode": {
    "name": "ipython",
    "version": 2
   },
   "file_extension": ".py",
   "mimetype": "text/x-python",
   "name": "python",
   "nbconvert_exporter": "python",
   "pygments_lexer": "ipython2",
   "version": "2.7.6"
  }
 },
 "nbformat": 4,
 "nbformat_minor": 5
}
