{
 "cells": [
  {
   "cell_type": "code",
   "id": "initial_id",
   "metadata": {
    "collapsed": true,
    "ExecuteTime": {
     "end_time": "2025-07-24T18:24:56.198940Z",
     "start_time": "2025-07-24T18:24:56.095958Z"
    }
   },
   "source": [
    "import numpy as np\n",
    "from src.shapley_utils import dataset, regression_model, shapley"
   ],
   "outputs": [],
   "execution_count": 1
  },
  {
   "metadata": {
    "jupyter": {
     "is_executing": true
    },
    "ExecuteTime": {
     "start_time": "2025-07-24T18:25:00.810949Z"
    }
   },
   "cell_type": "code",
   "source": [
    "tests, dimensions = 100, 13\n",
    "R2   = []\n",
    "SHAP = []\n",
    "for test in range(tests):\n",
    "    data        = dataset(dimensions=dimensions, samples=10000)\n",
    "    players     = data.features\n",
    "    model       = regression_model((data.X_train, data.y_train))\n",
    "    explainer   = shapley(model, data.training(),  players)\n",
    "    R2.append(explainer.regression_coeff())\n",
    "    SHAP.append(explainer.shap_add(data.X_test))\n",
    "R2 = np.array(R2)\n",
    "SHAP = np.array(SHAP)\n"
   ],
   "id": "afea9aac8b5a6e19",
   "outputs": [],
   "execution_count": null
  },
  {
   "metadata": {
    "ExecuteTime": {
     "end_time": "2025-07-23T12:06:50.679452600Z",
     "start_time": "2025-07-23T12:04:33.237936Z"
    }
   },
   "cell_type": "code",
   "source": [
    "R2_norm_shape = list(R2.shape[:-1])\n",
    "R2_norm_shape.append(1)\n",
    "R2_normalised = R2 / np.sum(R2, axis=-1).reshape(R2_norm_shape)\n"
   ],
   "id": "caa066ca9d07b6d",
   "outputs": [],
   "execution_count": 3
  },
  {
   "metadata": {
    "ExecuteTime": {
     "end_time": "2025-07-23T12:06:50.734800100Z",
     "start_time": "2025-07-23T12:04:33.266667Z"
    }
   },
   "cell_type": "code",
   "source": [
    "SHAP_norm_shape = list(SHAP.shape[:-1])\n",
    "SHAP_norm_shape.append(1)\n",
    "SHAP_normalised = abs(SHAP) / np.sum(abs(SHAP), axis=-1).reshape(SHAP_norm_shape)\n",
    "SHAP_mean = np.mean(SHAP_normalised, axis=1)"
   ],
   "id": "39e506d4bf0c150a",
   "outputs": [],
   "execution_count": 4
  },
  {
   "metadata": {
    "ExecuteTime": {
     "end_time": "2025-07-23T12:06:50.734800100Z",
     "start_time": "2025-07-23T12:04:33.319456Z"
    }
   },
   "cell_type": "code",
   "source": [
    "x1 = R2_normalised.ravel()\n",
    "x2 = SHAP_mean.ravel()"
   ],
   "id": "1f871b0845312060",
   "outputs": [],
   "execution_count": 5
  },
  {
   "metadata": {
    "ExecuteTime": {
     "end_time": "2025-07-23T12:06:50.749330300Z",
     "start_time": "2025-07-23T12:04:33.367415Z"
    }
   },
   "cell_type": "code",
   "source": [
    "x1 = (x1 - np.mean(x1, axis=0)) / np.std(x1, axis=0)\n",
    "x2 = (x2 - np.mean(x2, axis=0)) / np.std(x2, axis=0)"
   ],
   "id": "346da4cf6e57e4b4",
   "outputs": [],
   "execution_count": 6
  },
  {
   "metadata": {
    "ExecuteTime": {
     "end_time": "2025-07-23T12:06:50.767489300Z",
     "start_time": "2025-07-23T12:04:33.408986Z"
    }
   },
   "cell_type": "code",
   "source": "np.matmul(x1.T, x2)/(tests * (dimensions -1))",
   "id": "ada10cc65410a4bb",
   "outputs": [
    {
     "data": {
      "text/plain": [
       "0.6569278132025631"
      ]
     },
     "execution_count": 7,
     "metadata": {},
     "output_type": "execute_result"
    }
   ],
   "execution_count": 7
  },
  {
   "metadata": {
    "ExecuteTime": {
     "end_time": "2025-07-23T12:06:50.772519100Z",
     "start_time": "2025-07-23T12:04:33.523826Z"
    }
   },
   "cell_type": "code",
   "source": "",
   "id": "2d5fbcdd0b545b3c",
   "outputs": [],
   "execution_count": null
  }
 ],
 "metadata": {
  "kernelspec": {
   "display_name": "Python 3",
   "language": "python",
   "name": "python3"
  },
  "language_info": {
   "codemirror_mode": {
    "name": "ipython",
    "version": 2
   },
   "file_extension": ".py",
   "mimetype": "text/x-python",
   "name": "python",
   "nbconvert_exporter": "python",
   "pygments_lexer": "ipython2",
   "version": "2.7.6"
  }
 },
 "nbformat": 4,
 "nbformat_minor": 5
}
