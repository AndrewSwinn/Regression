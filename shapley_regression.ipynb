{
 "cells": [
  {
   "cell_type": "code",
   "id": "initial_id",
   "metadata": {
    "collapsed": true,
    "ExecuteTime": {
     "end_time": "2025-07-21T13:50:55.166626Z",
     "start_time": "2025-07-21T13:50:55.160648Z"
    }
   },
   "source": [
    "import numpy as np\n",
    "from src.shapley_utils import dataset, regression_model, shapley"
   ],
   "outputs": [],
   "execution_count": 17
  },
  {
   "metadata": {
    "ExecuteTime": {
     "end_time": "2025-07-21T13:50:56.144892Z",
     "start_time": "2025-07-21T13:50:55.817048Z"
    }
   },
   "cell_type": "code",
   "source": [
    "R2 = []\n",
    "for test in range(10):\n",
    "    data        = dataset(dimensions=6, samples=10000)\n",
    "    players     = data.features\n",
    "    model       = regression_model((data.X_train, data.y_train))\n",
    "    explainer   = shapley(model, data.training(),  players)\n",
    "    R2.append(explainer.regression_coeff())\n",
    "R2 = np.array(R2)\n"
   ],
   "id": "afea9aac8b5a6e19",
   "outputs": [],
   "execution_count": 18
  },
  {
   "metadata": {
    "ExecuteTime": {
     "end_time": "2025-07-21T13:50:57.219433Z",
     "start_time": "2025-07-21T13:50:57.201909Z"
    }
   },
   "cell_type": "code",
   "source": "R2",
   "id": "caa066ca9d07b6d",
   "outputs": [
    {
     "data": {
      "text/plain": [
       "array([[0.02858325, 0.02723583, 0.05257364, 0.0741238 , 0.11112842],\n",
       "       [0.02005351, 0.2452855 , 0.0684635 , 0.01715357, 0.6655071 ],\n",
       "       [0.03606926, 0.05104578, 0.17670131, 0.29013207, 0.28487283],\n",
       "       [0.00419112, 0.05899475, 0.03042442, 0.06258232, 0.02943958],\n",
       "       [0.39728308, 0.00988342, 0.08619892, 0.23088135, 0.14050591],\n",
       "       [0.08187512, 0.08297033, 0.1972434 , 0.25236159, 0.16451775],\n",
       "       [0.12501016, 0.03495936, 0.08936692, 0.66062989, 0.06629696],\n",
       "       [0.07578144, 0.02358774, 0.27905758, 0.0476576 , 0.28109103],\n",
       "       [0.07990359, 0.07797942, 0.40974819, 0.0193247 , 0.02379927],\n",
       "       [0.06324384, 0.11030795, 0.0883503 , 0.07130551, 0.51469958]])"
      ]
     },
     "execution_count": 19,
     "metadata": {},
     "output_type": "execute_result"
    }
   ],
   "execution_count": 19
  },
  {
   "metadata": {},
   "cell_type": "code",
   "outputs": [],
   "execution_count": null,
   "source": "",
   "id": "39e506d4bf0c150a"
  }
 ],
 "metadata": {
  "kernelspec": {
   "display_name": "Python 3",
   "language": "python",
   "name": "python3"
  },
  "language_info": {
   "codemirror_mode": {
    "name": "ipython",
    "version": 2
   },
   "file_extension": ".py",
   "mimetype": "text/x-python",
   "name": "python",
   "nbconvert_exporter": "python",
   "pygments_lexer": "ipython2",
   "version": "2.7.6"
  }
 },
 "nbformat": 4,
 "nbformat_minor": 5
}
